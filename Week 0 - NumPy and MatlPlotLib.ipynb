{
  "cells": [
    {
      "cell_type": "markdown",
      "source": [
        "# 1. NumPy and MatPlotLib"
      ],
      "metadata": {
        "id": "BCsg5LzDgmhz"
      },
      "id": "BCsg5LzDgmhz"
    },
    {
      "cell_type": "markdown",
      "source": [
        "## Vectors"
      ],
      "metadata": {
        "id": "voY5ywD5tLQf"
      },
      "id": "voY5ywD5tLQf"
    },
    {
      "cell_type": "code",
      "source": [
        "import numpy as np"
      ],
      "metadata": {
        "id": "T2UOSZN5ir_R"
      },
      "id": "T2UOSZN5ir_R",
      "execution_count": 12,
      "outputs": []
    },
    {
      "cell_type": "code",
      "execution_count": 13,
      "id": "e7029620-dd7f-4a48-be26-64594d8bf509",
      "metadata": {
        "colab": {
          "base_uri": "https://localhost:8080/"
        },
        "id": "e7029620-dd7f-4a48-be26-64594d8bf509",
        "outputId": "e96d7f13-ae4a-4295-8bd8-179574ef0e27"
      },
      "outputs": [
        {
          "output_type": "execute_result",
          "data": {
            "text/plain": [
              "array([1, 2, 3])"
            ]
          },
          "metadata": {},
          "execution_count": 13
        }
      ],
      "source": [
        "# basic array\n",
        "x = np.array([1, 2, 3])\n",
        "x"
      ]
    },
    {
      "cell_type": "code",
      "source": [
        "# range in arrays\n",
        "a = np.arange(1,4)\n",
        "a"
      ],
      "metadata": {
        "id": "3NpyEEDfh8wC",
        "outputId": "a98068c6-328d-43eb-c94e-7d99fb112dee",
        "colab": {
          "base_uri": "https://localhost:8080/"
        }
      },
      "id": "3NpyEEDfh8wC",
      "execution_count": 14,
      "outputs": [
        {
          "output_type": "execute_result",
          "data": {
            "text/plain": [
              "array([1, 2, 3])"
            ]
          },
          "metadata": {},
          "execution_count": 14
        }
      ]
    },
    {
      "cell_type": "code",
      "source": [
        "# default step size 1, for other size\n",
        "b = np.arange(1,10,2)\n",
        "b"
      ],
      "metadata": {
        "id": "zO5OIrJdi03A",
        "outputId": "245772ad-82fb-4b2e-8958-44041de9f8a0",
        "colab": {
          "base_uri": "https://localhost:8080/"
        }
      },
      "id": "zO5OIrJdi03A",
      "execution_count": 15,
      "outputs": [
        {
          "output_type": "execute_result",
          "data": {
            "text/plain": [
              "array([1, 3, 5, 7, 9])"
            ]
          },
          "metadata": {},
          "execution_count": 15
        }
      ]
    },
    {
      "cell_type": "code",
      "source": [
        "type(x)"
      ],
      "metadata": {
        "id": "yiEcCJARi-GG",
        "outputId": "e386ff2f-98c2-48cc-b97b-e4a8696391fe",
        "colab": {
          "base_uri": "https://localhost:8080/"
        }
      },
      "id": "yiEcCJARi-GG",
      "execution_count": 16,
      "outputs": [
        {
          "output_type": "execute_result",
          "data": {
            "text/plain": [
              "numpy.ndarray"
            ]
          },
          "metadata": {},
          "execution_count": 16
        }
      ]
    },
    {
      "cell_type": "code",
      "source": [
        "# can add 1 to 1\n",
        "x = np.arange(1,4)\n",
        "y = np.arange(4,7)\n",
        "z = x + y\n",
        "z"
      ],
      "metadata": {
        "id": "Y8ntdXasi_4I",
        "outputId": "06b74318-b472-436e-95f9-56fa21655545",
        "colab": {
          "base_uri": "https://localhost:8080/"
        }
      },
      "id": "Y8ntdXasi_4I",
      "execution_count": 17,
      "outputs": [
        {
          "output_type": "execute_result",
          "data": {
            "text/plain": [
              "array([5, 7, 9])"
            ]
          },
          "metadata": {},
          "execution_count": 17
        }
      ]
    },
    {
      "cell_type": "code",
      "source": [
        "# Multiplication will also be element by element\n",
        "x = np.arange(1,4)\n",
        "y = np.arange(4,7)\n",
        "z = x * y\n",
        "z"
      ],
      "metadata": {
        "id": "PfNsU6bNj--j",
        "outputId": "9b7795f4-727a-4413-99f5-a6b38252448c",
        "colab": {
          "base_uri": "https://localhost:8080/"
        }
      },
      "id": "PfNsU6bNj--j",
      "execution_count": 18,
      "outputs": [
        {
          "output_type": "execute_result",
          "data": {
            "text/plain": [
              "array([ 4, 10, 18])"
            ]
          },
          "metadata": {},
          "execution_count": 18
        }
      ]
    },
    {
      "cell_type": "markdown",
      "source": [
        "### Python lists vs Numpy Array"
      ],
      "metadata": {
        "id": "XO35Lb9Qkod8"
      },
      "id": "XO35Lb9Qkod8"
    },
    {
      "cell_type": "code",
      "source": [
        "# Comparing with Python Lists\n",
        "x_lists = list(range(1, 1_000_001))\n",
        "x_numpy = np.arange(1, 1_000_001)"
      ],
      "metadata": {
        "id": "NrJ90s7EkIPu"
      },
      "id": "NrJ90s7EkIPu",
      "execution_count": 19,
      "outputs": []
    },
    {
      "cell_type": "code",
      "source": [
        "# Time to multiply scalar in list\n",
        "%timeit [2 * comp for comp in x_lists]"
      ],
      "metadata": {
        "id": "Zwy777tfknq4",
        "outputId": "bfd53b13-0f57-4c25-ac34-e26251a0d1e0",
        "colab": {
          "base_uri": "https://localhost:8080/"
        }
      },
      "id": "Zwy777tfknq4",
      "execution_count": 20,
      "outputs": [
        {
          "output_type": "stream",
          "name": "stdout",
          "text": [
            "144 ms ± 5.65 ms per loop (mean ± std. dev. of 7 runs, 10 loops each)\n"
          ]
        }
      ]
    },
    {
      "cell_type": "code",
      "source": [
        "# time for numpy\n",
        "%timeit 2 * x_numpy"
      ],
      "metadata": {
        "id": "jD_r7oyTlCZK",
        "outputId": "98743044-a8df-42e6-b6ec-9398f4a07847",
        "colab": {
          "base_uri": "https://localhost:8080/"
        }
      },
      "id": "jD_r7oyTlCZK",
      "execution_count": 21,
      "outputs": [
        {
          "output_type": "stream",
          "name": "stdout",
          "text": [
            "4.99 ms ± 179 μs per loop (mean ± std. dev. of 7 runs, 100 loops each)\n"
          ]
        }
      ]
    },
    {
      "cell_type": "markdown",
      "source": [
        "### Functions in numpy"
      ],
      "metadata": {
        "id": "xrPh2WwomC4A"
      },
      "id": "xrPh2WwomC4A"
    },
    {
      "cell_type": "code",
      "source": [
        "# Element wise square\n",
        "x = np.arange(1,4)\n",
        "y = x ** 2\n",
        "y"
      ],
      "metadata": {
        "id": "PEekq7AAlGXb",
        "outputId": "7b8b23b1-59e6-4699-9e91-2cb8fbf32c0d",
        "colab": {
          "base_uri": "https://localhost:8080/"
        }
      },
      "id": "PEekq7AAlGXb",
      "execution_count": 22,
      "outputs": [
        {
          "output_type": "execute_result",
          "data": {
            "text/plain": [
              "array([1, 4, 9])"
            ]
          },
          "metadata": {},
          "execution_count": 22
        }
      ]
    },
    {
      "cell_type": "code",
      "source": [
        "# Log of 10\n",
        "x = np.array([1,10,100,1000,100000])\n",
        "y = np.log10(x)\n",
        "y"
      ],
      "metadata": {
        "id": "uAyCd6nUmJ5j",
        "outputId": "a29720d0-b07b-4d9c-f1ec-c4336f014363",
        "colab": {
          "base_uri": "https://localhost:8080/"
        }
      },
      "id": "uAyCd6nUmJ5j",
      "execution_count": 23,
      "outputs": [
        {
          "output_type": "execute_result",
          "data": {
            "text/plain": [
              "array([0., 1., 2., 3., 5.])"
            ]
          },
          "metadata": {},
          "execution_count": 23
        }
      ]
    },
    {
      "cell_type": "code",
      "source": [
        "# Log of e (ln)\n",
        "y = np.log(x)\n",
        "y\n"
      ],
      "metadata": {
        "id": "jIgcXjHMmUkV",
        "outputId": "76f2cff9-bb42-40dc-efd1-0d6a6075a038",
        "colab": {
          "base_uri": "https://localhost:8080/"
        }
      },
      "id": "jIgcXjHMmUkV",
      "execution_count": 24,
      "outputs": [
        {
          "output_type": "execute_result",
          "data": {
            "text/plain": [
              "array([ 0.        ,  2.30258509,  4.60517019,  6.90775528, 11.51292546])"
            ]
          },
          "metadata": {},
          "execution_count": 24
        }
      ]
    },
    {
      "cell_type": "code",
      "source": [
        "# Dot Product\n",
        "x = np.arange(1,4)\n",
        "y = np.arange(4,7)\n",
        "z = np.dot(x,y)\n",
        "z"
      ],
      "metadata": {
        "id": "rQsWxv80mc98",
        "outputId": "c38b43ec-c2dd-44c3-e905-7a79d8a523a5",
        "colab": {
          "base_uri": "https://localhost:8080/"
        }
      },
      "id": "rQsWxv80mc98",
      "execution_count": 25,
      "outputs": [
        {
          "output_type": "execute_result",
          "data": {
            "text/plain": [
              "np.int64(32)"
            ]
          },
          "metadata": {},
          "execution_count": 25
        }
      ]
    },
    {
      "cell_type": "code",
      "source": [
        "# Syntax\n",
        "x @ y"
      ],
      "metadata": {
        "id": "IW_ZIyywr-A2",
        "outputId": "0cd449f9-2509-497b-9f87-cb830f7050cf",
        "colab": {
          "base_uri": "https://localhost:8080/"
        }
      },
      "id": "IW_ZIyywr-A2",
      "execution_count": 26,
      "outputs": [
        {
          "output_type": "execute_result",
          "data": {
            "text/plain": [
              "np.int64(32)"
            ]
          },
          "metadata": {},
          "execution_count": 26
        }
      ]
    },
    {
      "cell_type": "code",
      "source": [
        "# Vector of Zeros or Ones\n",
        "zeros = np.zeros(5)\n",
        "ones = np.ones(5)\n",
        "zeros"
      ],
      "metadata": {
        "id": "HV5NQglEsLIq",
        "outputId": "df08aaf4-3a9f-4dbc-936b-45ffbec47a47",
        "colab": {
          "base_uri": "https://localhost:8080/"
        }
      },
      "id": "HV5NQglEsLIq",
      "execution_count": 28,
      "outputs": [
        {
          "output_type": "execute_result",
          "data": {
            "text/plain": [
              "array([0., 0., 0., 0., 0.])"
            ]
          },
          "metadata": {},
          "execution_count": 28
        }
      ]
    },
    {
      "cell_type": "code",
      "source": [
        "ones"
      ],
      "metadata": {
        "id": "OLc-_JvQsP9m",
        "outputId": "4be0ffd6-9a4e-4565-f658-85f840d0b7a3",
        "colab": {
          "base_uri": "https://localhost:8080/"
        }
      },
      "id": "OLc-_JvQsP9m",
      "execution_count": 29,
      "outputs": [
        {
          "output_type": "execute_result",
          "data": {
            "text/plain": [
              "array([1., 1., 1., 1., 1.])"
            ]
          },
          "metadata": {},
          "execution_count": 29
        }
      ]
    },
    {
      "cell_type": "code",
      "source": [
        "# Norm of a Vector\n",
        "x = np.arange(1,4)\n",
        "\n",
        "# By default L2 norm is calculated\n",
        "a = np.linalg.norm(x)\n",
        "a"
      ],
      "metadata": {
        "id": "Sp7OD5nosiGV",
        "outputId": "cc2d36b2-addd-4b7b-e772-8ec27dce59ce",
        "colab": {
          "base_uri": "https://localhost:8080/"
        }
      },
      "id": "Sp7OD5nosiGV",
      "execution_count": 30,
      "outputs": [
        {
          "output_type": "execute_result",
          "data": {
            "text/plain": [
              "np.float64(3.7416573867739413)"
            ]
          },
          "metadata": {},
          "execution_count": 30
        }
      ]
    },
    {
      "cell_type": "code",
      "source": [
        "# for L1 norm\n",
        "a = np.linalg.norm(x, ord=1)\n",
        "a"
      ],
      "metadata": {
        "id": "-Uc2GH6dtksb",
        "outputId": "15349a39-1acc-408e-8897-85ff83aa3f2b",
        "colab": {
          "base_uri": "https://localhost:8080/"
        }
      },
      "id": "-Uc2GH6dtksb",
      "execution_count": 31,
      "outputs": [
        {
          "output_type": "execute_result",
          "data": {
            "text/plain": [
              "np.float64(6.0)"
            ]
          },
          "metadata": {},
          "execution_count": 31
        }
      ]
    },
    {
      "cell_type": "code",
      "source": [
        "# Shape and dimensions\n",
        "x.shape"
      ],
      "metadata": {
        "id": "gMLoOQRBtqIV",
        "outputId": "b0dffdec-d233-4b94-cadc-149950a0e717",
        "colab": {
          "base_uri": "https://localhost:8080/"
        }
      },
      "id": "gMLoOQRBtqIV",
      "execution_count": 32,
      "outputs": [
        {
          "output_type": "execute_result",
          "data": {
            "text/plain": [
              "(3,)"
            ]
          },
          "metadata": {},
          "execution_count": 32
        }
      ]
    },
    {
      "cell_type": "code",
      "source": [
        "# no of dimensions\n",
        "x.ndim"
      ],
      "metadata": {
        "id": "xcb-phRew4cv",
        "outputId": "42f3f749-f131-40a3-d781-6238320cbb8a",
        "colab": {
          "base_uri": "https://localhost:8080/"
        }
      },
      "id": "xcb-phRew4cv",
      "execution_count": 33,
      "outputs": [
        {
          "output_type": "execute_result",
          "data": {
            "text/plain": [
              "1"
            ]
          },
          "metadata": {},
          "execution_count": 33
        }
      ]
    },
    {
      "cell_type": "markdown",
      "source": [
        "## Curves"
      ],
      "metadata": {
        "id": "5NWuAAOb5SGu"
      },
      "id": "5NWuAAOb5SGu"
    },
    {
      "cell_type": "code",
      "source": [
        "import numpy as np\n",
        "import matplotlib.pyplot as plt"
      ],
      "metadata": {
        "id": "kEAit_aHw8IS"
      },
      "id": "kEAit_aHw8IS",
      "execution_count": 34,
      "outputs": []
    },
    {
      "cell_type": "code",
      "source": [
        "# Partitioning the real line\n",
        "\n",
        "x= np.linspace(0, 1, 11)\n",
        "x"
      ],
      "metadata": {
        "id": "GxIdTjMJ5Z2o",
        "outputId": "422e7299-de07-4bba-c6ee-9f2940fbe509",
        "colab": {
          "base_uri": "https://localhost:8080/"
        }
      },
      "id": "GxIdTjMJ5Z2o",
      "execution_count": 36,
      "outputs": [
        {
          "output_type": "execute_result",
          "data": {
            "text/plain": [
              "array([0. , 0.1, 0.2, 0.3, 0.4, 0.5, 0.6, 0.7, 0.8, 0.9, 1. ])"
            ]
          },
          "metadata": {},
          "execution_count": 36
        }
      ]
    },
    {
      "cell_type": "code",
      "source": [
        "# Curve - 1 (Y = X)\n",
        "y = x\n",
        "plt.plot(x, y)"
      ],
      "metadata": {
        "id": "t8BS10Cy5tvu",
        "outputId": "126a981c-f287-4605-e432-3ea77142834e",
        "colab": {
          "base_uri": "https://localhost:8080/",
          "height": 447
        }
      },
      "id": "t8BS10Cy5tvu",
      "execution_count": 37,
      "outputs": [
        {
          "output_type": "execute_result",
          "data": {
            "text/plain": [
              "[<matplotlib.lines.Line2D at 0x1ea8e87dbd0>]"
            ]
          },
          "metadata": {},
          "execution_count": 37
        },
        {
          "output_type": "display_data",
          "data": {
            "text/plain": [
              "<Figure size 640x480 with 1 Axes>"
            ],
            "image/png": "[encoded data removed]"
          },
          "metadata": {}
        }
      ]
    },
    {
      "cell_type": "code",
      "source": [
        "plt.scatter(x, y)"
      ],
      "metadata": {
        "id": "gG1q1ZNi6Bsi",
        "outputId": "42c4f390-0e41-4311-d9c3-eb220c07cefc",
        "colab": {
          "base_uri": "https://localhost:8080/",
          "height": 447
        }
      },
      "id": "gG1q1ZNi6Bsi",
      "execution_count": 38,
      "outputs": [
        {
          "output_type": "execute_result",
          "data": {
            "text/plain": [
              "<matplotlib.collections.PathCollection at 0x1ea8eda7770>"
            ]
          },
          "metadata": {},
          "execution_count": 38
        },
        {
          "output_type": "display_data",
          "data": {
            "text/plain": [
              "<Figure size 640x480 with 1 Axes>"
            ],
            "image/png": "[encoded data removed]"
          },
          "metadata": {}
        }
      ]
    },
    {
      "cell_type": "code",
      "source": [
        "plt.plot(x,y)\n",
        "plt.scatter(x,y)"
      ],
      "metadata": {
        "id": "sJuLu1RV6JzT",
        "outputId": "78129f94-9820-4488-b21d-5eed85b92957",
        "colab": {
          "base_uri": "https://localhost:8080/",
          "height": 447
        }
      },
      "id": "sJuLu1RV6JzT",
      "execution_count": 39,
      "outputs": [
        {
          "output_type": "execute_result",
          "data": {
            "text/plain": [
              "<matplotlib.collections.PathCollection at 0x1ea8ec10550>"
            ]
          },
          "metadata": {},
          "execution_count": 39
        },
        {
          "output_type": "display_data",
          "data": {
            "text/plain": [
              "<Figure size 640x480 with 1 Axes>"
            ],
            "image/png": "[encoded data removed]"
          },
          "metadata": {}
        }
      ]
    },
    {
      "cell_type": "code",
      "source": [
        "# Curve 2\n",
        "# plot y = 5 - 3x\n",
        "x = np.linspace(0,1,20)\n",
        "y = 5 - 3 * x\n",
        "plt.plot(x,y)"
      ],
      "metadata": {
        "id": "lb70B2Zz6QEH",
        "outputId": "5d061183-739f-4779-b4c9-c69c726c7f8b",
        "colab": {
          "base_uri": "https://localhost:8080/",
          "height": 447
        }
      },
      "id": "lb70B2Zz6QEH",
      "execution_count": 40,
      "outputs": [
        {
          "output_type": "execute_result",
          "data": {
            "text/plain": [
              "[<matplotlib.lines.Line2D at 0x1ea8f526850>]"
            ]
          },
          "metadata": {},
          "execution_count": 40
        },
        {
          "output_type": "display_data",
          "data": {
            "text/plain": [
              "<Figure size 640x480 with 1 Axes>"
            ],
            "image/png": "[encoded data removed]"
          },
          "metadata": {}
        }
      ]
    },
    {
      "cell_type": "code",
      "source": [
        "# Curve 3\n",
        "# y = x^2\n",
        "y = x ** 2\n",
        "plt.plot(x,y)"
      ],
      "metadata": {
        "id": "eNu4dt9d6mKD",
        "outputId": "58597010-8d88-4d3c-9c41-4c094c90e221",
        "colab": {
          "base_uri": "https://localhost:8080/",
          "height": 447
        }
      },
      "id": "eNu4dt9d6mKD",
      "execution_count": 41,
      "outputs": [
        {
          "output_type": "execute_result",
          "data": {
            "text/plain": [
              "[<matplotlib.lines.Line2D at 0x1ea8f644e10>]"
            ]
          },
          "metadata": {},
          "execution_count": 41
        },
        {
          "output_type": "display_data",
          "data": {
            "text/plain": [
              "<Figure size 640x480 with 1 Axes>"
            ],
            "image/png": "[encoded data removed]"
          },
          "metadata": {}
        }
      ]
    },
    {
      "cell_type": "code",
      "source": [],
      "metadata": {
        "id": "4uA2puYT6uY1"
      },
      "id": "4uA2puYT6uY1",
      "execution_count": null,
      "outputs": []
    }
  ],
  "metadata": {
    "kernelspec": {
      "display_name": "Python 3",
      "name": "python3"
    },
    "language_info": {
      "codemirror_mode": {
        "name": "ipython",
        "version": 3
      },
      "file_extension": ".py",
      "mimetype": "text/x-python",
      "name": "python",
      "nbconvert_exporter": "python",
      "pygments_lexer": "ipython3",
      "version": "3.13.1"
    },
    "colab": {
      "provenance": [],
      "gpuType": "T4"
    },
    "accelerator": "GPU"
  },
  "nbformat": 4,
  "nbformat_minor": 5
}