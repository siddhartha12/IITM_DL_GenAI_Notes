{
 "cells": [
  {
   "cell_type": "markdown",
   "id": "qSQqhXoY9KHJ",
   "metadata": {
    "id": "qSQqhXoY9KHJ"
   },
   "source": [
    "# L1.1 - Introduction to ANN"
   ]
  },
  {
   "cell_type": "markdown",
   "id": "336a0f22-f41a-42f0-96a5-8072d5ad9d41",
   "metadata": {
    "id": "336a0f22-f41a-42f0-96a5-8072d5ad9d41"
   },
   "source": [
    "Machine learning is the field of study that gives computers the abiity to learn without being explicitly programmed. i.e. learn directly from data, no explicitly programed rules\n",
    "## Data and process\n",
    "### Focus: Structured data\n",
    "* Data in Tables (rows and columns)\n",
    "* Predict a target from features\n",
    "\n",
    "### Method: manual feature engineering\n",
    "* Human experts design features\n",
    "* model learns from these engineered features\n",
    "* success depends on feature quaity\n",
    "\n",
    "## Models\n",
    "### Linear models\n",
    "* core idea: assumes linear relationships\n",
    "* eg: linear/logistic regression\n",
    "* traits: fast, interpretable but simple\n",
    "### Tree Based models\n",
    "* core idea: learns if-then-else rules\n",
    "traits: capture non linearity\n",
    "\n",
    "## Limitations\n",
    "### Feature engineering Bottleneck\n",
    "Time consuming, requires domain expertise and is often suboptimal\n",
    "### Inability to handle high dimension data\n",
    "struggles with images, audio, or raw text\n",
    "### Limited representation learning\n",
    "learn shallow patterns, not deep hierarchical features\n",
    "## New paradigm\n",
    "ML needs manual feature extraction, DL learns them automatically\n",
    "\n",
    "## Deep Learning\n",
    "* Models learn directly from raw data\n",
    "* Handles images, text and audio\n",
    "* no manual feature extraction\n",
    "\n",
    "## Factors for Deep learning\n",
    "* Big data\n",
    "* computational power\n",
    "* Better algorithms"
   ]
  },
  {
   "cell_type": "markdown",
   "id": "6599400a-72cf-432b-bd11-9d97a5572cb0",
   "metadata": {
    "id": "6599400a-72cf-432b-bd11-9d97a5572cb0"
   },
   "source": [
    "# L1.2 - Introduction to PyTorch and Tensors"
   ]
  },
  {
   "cell_type": "markdown",
   "id": "b716c8a1-745b-4a0f-b7dd-8fb16e065c19",
   "metadata": {
    "id": "b716c8a1-745b-4a0f-b7dd-8fb16e065c19"
   },
   "source": [
    "## Advantages of PyTorch\n",
    "* dynamic computational graphs allow for flexible model architectures\n",
    "* pythonic interface that integrates seamleslly with the python ecosystem\n",
    "* Extensive debugging capabilities with standard python debugging tools\n",
    "\n",
    "## Performance Optimization\n",
    "* Efficient GPU integration through cuda integration\n",
    "* optimized tensors operatins for numerical computations\n",
    "* Support for distributed training across multiple devices\n",
    "\n",
    "## Theoretical foundation\n",
    "tensors are used to represent\n",
    "\n",
    "## Notation\n",
    "* Scalar: lowercase italic\n",
    "* vector: lowercase bold letters\n",
    "* matrices: Uppercase bold letters\n",
    "* Tensors: Uppercase bold letters with rank notation"
   ]
  },
  {
   "cell_type": "markdown",
   "id": "ff2c1435-24e8-447e-9b14-d957202cba43",
   "metadata": {
    "id": "ff2c1435-24e8-447e-9b14-d957202cba43"
   },
   "source": [
    "# L1.3 Pytorch environment"
   ]
  },
  {
   "cell_type": "markdown",
   "id": "oNmXdSLuA4nB",
   "metadata": {
    "id": "oNmXdSLuA4nB"
   },
   "source": [
    "ON Computer"
   ]
  },
  {
   "cell_type": "code",
   "execution_count": null,
   "id": "g2yW2dQV9Wak",
   "metadata": {
    "id": "g2yW2dQV9Wak",
    "outputId": "5a7a7612-fe76-4450-8761-4c539eade99b"
   },
   "outputs": [
    {
     "name": "stdout",
     "output_type": "stream",
     "text": [
      "PyTorch version: 2.8.0+cpu\n"
     ]
    }
   ],
   "source": [
    "import torch\n",
    "print(f\"PyTorch version: {torch.__version__}\")"
   ]
  },
  {
   "cell_type": "code",
   "execution_count": 7,
   "id": "d3fb7993-0cda-4bde-87ee-2e50d9eda61c",
   "metadata": {
    "id": "d3fb7993-0cda-4bde-87ee-2e50d9eda61c",
    "outputId": "d7618fe8-2ad5-4740-baa6-8d232ca23e0c"
   },
   "outputs": [
    {
     "name": "stdout",
     "output_type": "stream",
     "text": [
      "numpy version 2.2.3\n",
      "matplotlib version 3.10.1\n"
     ]
    }
   ],
   "source": [
    "# Additional libraries\n",
    "# numpy for numerical operarions\n",
    "import numpy as np\n",
    "\n",
    "# matplotlib\n",
    "import matplotlib.pyplot as plt\n",
    "import matplotlib\n",
    "\n",
    "print(f\"numpy version {np.__version__}\")\n",
    "print(f\"matplotlib version {matplotlib.__version__}\")"
   ]
  },
  {
   "cell_type": "code",
   "execution_count": null,
   "id": "e605af26-9d49-44ee-9e04-c706293481f4",
   "metadata": {
    "id": "e605af26-9d49-44ee-9e04-c706293481f4",
    "outputId": "fc900e56-fc79-4331-a15d-66562d2dc5b7"
   },
   "outputs": [
    {
     "name": "stdout",
     "output_type": "stream",
     "text": [
      "CUDA available: False\n"
     ]
    }
   ],
   "source": [
    "# Check for GPU availability\n",
    "print(f\"CUDA available: {torch.cuda.is_available()}\")"
   ]
  },
  {
   "cell_type": "markdown",
   "id": "DENrQJ8MA6JO",
   "metadata": {
    "id": "DENrQJ8MA6JO"
   },
   "source": [
    "ON Colab"
   ]
  },
  {
   "cell_type": "code",
   "execution_count": 1,
   "id": "4f8ea981-ffa2-4a6a-86b6-bf51487b0fbb",
   "metadata": {
    "colab": {
     "base_uri": "https://localhost:8080/"
    },
    "id": "4f8ea981-ffa2-4a6a-86b6-bf51487b0fbb",
    "outputId": "d637690f-03af-49ca-a322-56fd44b1fea3"
   },
   "outputs": [
    {
     "name": "stdout",
     "output_type": "stream",
     "text": [
      "PyTorch version: 2.8.0+cu126\n"
     ]
    }
   ],
   "source": [
    "import torch\n",
    "print(f\"PyTorch version: {torch.__version__}\")"
   ]
  },
  {
   "cell_type": "code",
   "execution_count": 2,
   "id": "aKSCf5GNA84x",
   "metadata": {
    "colab": {
     "base_uri": "https://localhost:8080/"
    },
    "id": "aKSCf5GNA84x",
    "outputId": "98e3afca-eaa8-43c7-b8fe-d3b6b6559485"
   },
   "outputs": [
    {
     "name": "stdout",
     "output_type": "stream",
     "text": [
      "CUDA available: True\n"
     ]
    }
   ],
   "source": [
    "# Check for GPU availability\n",
    "print(f\"CUDA available: {torch.cuda.is_available()}\")"
   ]
  },
  {
   "cell_type": "markdown",
   "id": "c5f55daf-d2f8-40bd-be05-5021a2db5d43",
   "metadata": {},
   "source": [
    "# L1.4 - Tensor creation methods"
   ]
  },
  {
   "cell_type": "markdown",
   "id": "b6fbf4f9-9f7d-4c14-97d3-d428ec709ac0",
   "metadata": {},
   "source": [
    "Tensor creation forms the foundation of any deep learning workflow, proving mechanism to:\n",
    "1. Initialize data structures for inputs, parameters and outputs\n",
    "2. control numerical precision through data type specification\n",
    "3. optimize memory usage through appropricate tensor sizing\n",
    "4. ensure model reproducibility through deterministic initialization"
   ]
  },
  {
   "cell_type": "code",
   "execution_count": 8,
   "id": "RYarTxgoBEgm",
   "metadata": {
    "id": "RYarTxgoBEgm"
   },
   "outputs": [
    {
     "name": "stdout",
     "output_type": "stream",
     "text": [
      "tensor(7)\n",
      "tensor([1, 2, 3, 4])\n",
      "tensor([[1, 2],\n",
      "        [3, 4]])\n",
      "tensor([[[1, 2],\n",
      "         [3, 4]],\n",
      "\n",
      "        [[5, 6],\n",
      "         [7, 8]]])\n"
     ]
    }
   ],
   "source": [
    "# scalar\n",
    "scalar = torch.tensor(7)\n",
    "print(scalar)\n",
    "\n",
    "# vector\n",
    "vector = torch.tensor([1,2,3,4])\n",
    "print(vector)\n",
    "\n",
    "# matrix\n",
    "matrix = torch.tensor([\n",
    "    [1,2],\n",
    "    [3,4]\n",
    "])\n",
    "print(matrix)\n",
    "\n",
    "# 3D tensor\n",
    "tensor = torch.tensor([\n",
    "    [[1,2],[3,4]],\n",
    "    [[5,6],[7,8]]\n",
    "])\n",
    "print(tensor)"
   ]
  },
  {
   "cell_type": "code",
   "execution_count": 9,
   "id": "e8fa4dce-a249-40ec-81f0-f14f9a778baa",
   "metadata": {},
   "outputs": [
    {
     "data": {
      "text/plain": [
       "torch.Size([2, 2, 2])"
      ]
     },
     "execution_count": 9,
     "metadata": {},
     "output_type": "execute_result"
    }
   ],
   "source": [
    "tensor.shape"
   ]
  },
  {
   "cell_type": "code",
   "execution_count": 12,
   "id": "5bb3181b-c159-4e16-8e5c-5320f01467ec",
   "metadata": {},
   "outputs": [
    {
     "data": {
      "text/plain": [
       "3"
      ]
     },
     "execution_count": 12,
     "metadata": {},
     "output_type": "execute_result"
    }
   ],
   "source": [
    "tensor.dim()"
   ]
  },
  {
   "cell_type": "code",
   "execution_count": 14,
   "id": "0acc2f72-66f9-4bef-b620-0ce8214c63b0",
   "metadata": {},
   "outputs": [
    {
     "name": "stdout",
     "output_type": "stream",
     "text": [
      "4\n"
     ]
    }
   ],
   "source": [
    "# Data type specification\n",
    "float_tensor = torch.tensor([1.0,2.0,3.0], dtype=torch.float32)\n",
    "\n",
    "print(float_tensor.element_size())"
   ]
  },
  {
   "cell_type": "code",
   "execution_count": 15,
   "id": "e3423d42-cb35-43c8-a702-e7816e5215a4",
   "metadata": {},
   "outputs": [
    {
     "name": "stdout",
     "output_type": "stream",
     "text": [
      "tensor([[1, 2, 3],\n",
      "        [4, 5, 6]])\n"
     ]
    }
   ],
   "source": [
    "# Numpy to Tensor\n",
    "np_array = np.array([[1,2,3],[4,5,6]])\n",
    "\n",
    "tensor_from_numpy = torch.from_numpy(np_array)\n",
    "\n",
    "print(tensor_from_numpy)"
   ]
  },
  {
   "cell_type": "code",
   "execution_count": 16,
   "id": "e8aef347-2d13-4cff-b9b4-8b8cbacc1e9e",
   "metadata": {},
   "outputs": [
    {
     "name": "stdout",
     "output_type": "stream",
     "text": [
      "tensor([[100,   2,   3],\n",
      "        [  4,   5,   6]])\n"
     ]
    }
   ],
   "source": [
    "# memory is shared\n",
    "np_array[0, 0] = 100\n",
    "print(tensor_from_numpy)"
   ]
  },
  {
   "cell_type": "code",
   "execution_count": 17,
   "id": "22f5d343-bd92-4fac-94ce-4a814946e68d",
   "metadata": {},
   "outputs": [
    {
     "name": "stdout",
     "output_type": "stream",
     "text": [
      "tensor([[0., 0., 0.],\n",
      "        [0., 0., 0.],\n",
      "        [0., 0., 0.]])\n",
      "tensor([[1., 1., 1.],\n",
      "        [1., 1., 1.],\n",
      "        [1., 1., 1.]])\n",
      "tensor([[0., 0.],\n",
      "        [0., 0.]])\n",
      "tensor([[42, 42],\n",
      "        [42, 42],\n",
      "        [42, 42]])\n"
     ]
    }
   ],
   "source": [
    "# Create empty, ones, zeros tensors\n",
    "\n",
    "# zeros tensor\n",
    "zeros_tensor = torch.zeros(3,3)\n",
    "print(zeros_tensor)\n",
    "\n",
    "ones_tensor = torch.ones(3,3)\n",
    "print(ones_tensor)\n",
    "\n",
    "# doesnt initialize null values, \n",
    "# just chooses addresses in memory and displays whatever the hell is on there\n",
    "empty_tensor = torch.empty(2,2)\n",
    "print(empty_tensor)\n",
    "\n",
    "filled_tensor = torch.full((3,2), 42)\n",
    "print(filled_tensor)\n"
   ]
  },
  {
   "cell_type": "code",
   "execution_count": 18,
   "id": "6a55039b-5adb-4631-a67a-8cf0929fba40",
   "metadata": {},
   "outputs": [
    {
     "data": {
      "text/plain": [
       "tensor([[1., 0., 0.],\n",
       "        [0., 1., 0.],\n",
       "        [0., 0., 1.]])"
      ]
     },
     "execution_count": 18,
     "metadata": {},
     "output_type": "execute_result"
    }
   ],
   "source": [
    "# Identity matrices\n",
    "I = torch.eye(3)\n",
    "I"
   ]
  },
  {
   "cell_type": "code",
   "execution_count": 27,
   "id": "8829e39c-8580-4aa1-8763-3ffd808d724d",
   "metadata": {},
   "outputs": [
    {
     "data": {
      "text/plain": [
       "tensor([[1., 0., 0., 0.],\n",
       "        [0., 1., 0., 0.]])"
      ]
     },
     "execution_count": 27,
     "metadata": {},
     "output_type": "execute_result"
    }
   ],
   "source": [
    "# non square identity\n",
    "I2 = torch.eye(2,4)\n",
    "I2"
   ]
  },
  {
   "cell_type": "code",
   "execution_count": 23,
   "id": "22c61bde-c5f2-47ca-96a5-43555bb7ab94",
   "metadata": {},
   "outputs": [
    {
     "data": {
      "text/plain": [
       "tensor([0.0000, 0.2500, 0.5000, 0.7500, 1.0000])"
      ]
     },
     "execution_count": 23,
     "metadata": {},
     "output_type": "execute_result"
    }
   ],
   "source": [
    "# Creating sequential tensors\n",
    "\n",
    "# 1. linear spacing\n",
    "# tensor with 5 valus evenly spaced between 0 and 1\n",
    "linear_tensor = torch.linspace(0,1,5)\n",
    "linear_tensor"
   ]
  },
  {
   "cell_type": "code",
   "execution_count": 24,
   "id": "1515ecdb-7782-46f6-a338-af9ec6390e08",
   "metadata": {},
   "outputs": [
    {
     "data": {
      "text/plain": [
       "tensor([   10.,   100.,  1000., 10000.])"
      ]
     },
     "execution_count": 24,
     "metadata": {},
     "output_type": "execute_result"
    }
   ],
   "source": [
    "# 2. logarithmic spacing\n",
    "log_tensor = torch.logspace(1, 4, 4)\n",
    "log_tensor"
   ]
  },
  {
   "cell_type": "code",
   "execution_count": 25,
   "id": "97686794-d8bb-4e56-bb30-20cbd530f24d",
   "metadata": {},
   "outputs": [
    {
     "data": {
      "text/plain": [
       "tensor([0, 1, 2, 3, 4, 5, 6, 7, 8])"
      ]
     },
     "execution_count": 25,
     "metadata": {},
     "output_type": "execute_result"
    }
   ],
   "source": [
    "# 3. arrange values from 0 to 9\n",
    "range_tensor = torch.arange(0,9)\n",
    "range_tensor"
   ]
  },
  {
   "cell_type": "code",
   "execution_count": 26,
   "id": "2baeef21-d854-476d-b6c2-793529d1057e",
   "metadata": {},
   "outputs": [
    {
     "data": {
      "text/plain": [
       "tensor([0.0000, 1.7500, 3.5000, 5.2500, 7.0000, 8.7500])"
      ]
     },
     "execution_count": 26,
     "metadata": {},
     "output_type": "execute_result"
    }
   ],
   "source": [
    "# 4. Step tensor\n",
    "step_tensor = torch.arange(0, 10, 1.75)\n",
    "step_tensor"
   ]
  },
  {
   "cell_type": "code",
   "execution_count": 29,
   "id": "77a1135c-2134-4d66-a8b9-f8c67f367188",
   "metadata": {},
   "outputs": [
    {
     "data": {
      "text/plain": [
       "tensor([[1, 0, 0],\n",
       "        [0, 2, 0],\n",
       "        [0, 0, 3]])"
      ]
     },
     "execution_count": 29,
     "metadata": {},
     "output_type": "execute_result"
    }
   ],
   "source": [
    "# Diagonmal matrices\n",
    "diag = torch.diag(torch.tensor([1,2,3]))\n",
    "diag"
   ]
  },
  {
   "cell_type": "code",
   "execution_count": 30,
   "id": "d7df0a7b-14e5-4d52-8c60-1a762a488451",
   "metadata": {},
   "outputs": [
    {
     "data": {
      "text/plain": [
       "tensor([1, 5, 9])"
      ]
     },
     "execution_count": 30,
     "metadata": {},
     "output_type": "execute_result"
    }
   ],
   "source": [
    "mat = torch.tensor([\n",
    "    [1,2,3],\n",
    "    [4,5,6],\n",
    "    [7,8,9]\n",
    "])\n",
    "torch.diag(mat)"
   ]
  },
  {
   "cell_type": "code",
   "execution_count": null,
   "id": "d470498b-5590-4910-a029-d50805568b4f",
   "metadata": {},
   "outputs": [],
   "source": []
  }
 ],
 "metadata": {
  "accelerator": "GPU",
  "colab": {
   "gpuType": "T4",
   "provenance": []
  },
  "kernelspec": {
   "display_name": "Python 3 (ipykernel)",
   "language": "python",
   "name": "python3"
  },
  "language_info": {
   "codemirror_mode": {
    "name": "ipython",
    "version": 3
   },
   "file_extension": ".py",
   "mimetype": "text/x-python",
   "name": "python",
   "nbconvert_exporter": "python",
   "pygments_lexer": "ipython3",
   "version": "3.13.1"
  }
 },
 "nbformat": 4,
 "nbformat_minor": 5
}
