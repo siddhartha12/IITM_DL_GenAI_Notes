{
 "cells": [
  {
   "cell_type": "markdown",
   "id": "563f1eb1-7147-4990-a8a7-7883c11a28a9",
   "metadata": {},
   "source": [
    "# L2.1 - Universal Approximation Theorem"
   ]
  },
  {
   "cell_type": "markdown",
   "id": "01d70c14-676f-436c-843e-ff25fa918c7d",
   "metadata": {},
   "source": [
    "1. Linear Regression: weighted sum of input features\n",
    "2. Neural network: has a linear and a nonlinear operation that helps warp modify and bend the sample space\n",
    "\n",
    "## Theorem\n",
    "A feedforward network with a single hidden layer and a non linear bounded, continuous activation can approximate any continuous function on a compact domain to arbitrary accuracy\n",
    "\n",
    "existence of parameters(alpha, w, b) for desired accuracy. Not a training guarantee, depth is not required by the theorem"
   ]
  },
  {
   "cell_type": "code",
   "execution_count": null,
   "id": "b8f0c6a5-6d1c-4bf4-ad2e-ffe674ebbf79",
   "metadata": {},
   "outputs": [],
   "source": []
  }
 ],
 "metadata": {
  "kernelspec": {
   "display_name": "Python 3 (ipykernel)",
   "language": "python",
   "name": "python3"
  },
  "language_info": {
   "codemirror_mode": {
    "name": "ipython",
    "version": 3
   },
   "file_extension": ".py",
   "mimetype": "text/x-python",
   "name": "python",
   "nbconvert_exporter": "python",
   "pygments_lexer": "ipython3",
   "version": "3.13.1"
  }
 },
 "nbformat": 4,
 "nbformat_minor": 5
}
