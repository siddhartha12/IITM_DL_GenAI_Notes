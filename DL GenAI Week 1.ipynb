{
 "cells": [
  {
   "cell_type": "markdown",
   "id": "qSQqhXoY9KHJ",
   "metadata": {
    "id": "qSQqhXoY9KHJ",
    "jp-MarkdownHeadingCollapsed": true
   },
   "source": [
    "# L1.1 - Introduction to ANN"
   ]
  },
  {
   "cell_type": "markdown",
   "id": "336a0f22-f41a-42f0-96a5-8072d5ad9d41",
   "metadata": {
    "id": "336a0f22-f41a-42f0-96a5-8072d5ad9d41"
   },
   "source": [
    "Machine learning is the field of study that gives computers the abiity to learn without being explicitly programmed. i.e. learn directly from data, no explicitly programed rules\n",
    "## Data and process\n",
    "### Focus: Structured data\n",
    "* Data in Tables (rows and columns)\n",
    "* Predict a target from features\n",
    "\n",
    "### Method: manual feature engineering\n",
    "* Human experts design features\n",
    "* model learns from these engineered features\n",
    "* success depends on feature quaity\n",
    "\n",
    "## Models\n",
    "### Linear models\n",
    "* core idea: assumes linear relationships\n",
    "* eg: linear/logistic regression\n",
    "* traits: fast, interpretable but simple\n",
    "### Tree Based models\n",
    "* core idea: learns if-then-else rules\n",
    "traits: capture non linearity\n",
    "\n",
    "## Limitations\n",
    "### Feature engineering Bottleneck\n",
    "Time consuming, requires domain expertise and is often suboptimal\n",
    "### Inability to handle high dimension data\n",
    "struggles with images, audio, or raw text\n",
    "### Limited representation learning\n",
    "learn shallow patterns, not deep hierarchical features\n",
    "## New paradigm\n",
    "ML needs manual feature extraction, DL learns them automatically\n",
    "\n",
    "## Deep Learning\n",
    "* Models learn directly from raw data\n",
    "* Handles images, text and audio\n",
    "* no manual feature extraction\n",
    "\n",
    "## Factors for Deep learning\n",
    "* Big data\n",
    "* computational power\n",
    "* Better algorithms"
   ]
  },
  {
   "cell_type": "markdown",
   "id": "6599400a-72cf-432b-bd11-9d97a5572cb0",
   "metadata": {
    "id": "6599400a-72cf-432b-bd11-9d97a5572cb0",
    "jp-MarkdownHeadingCollapsed": true
   },
   "source": [
    "# L1.2 - Introduction to PyTorch and Tensors"
   ]
  },
  {
   "cell_type": "markdown",
   "id": "b716c8a1-745b-4a0f-b7dd-8fb16e065c19",
   "metadata": {
    "id": "b716c8a1-745b-4a0f-b7dd-8fb16e065c19"
   },
   "source": [
    "## Advantages of PyTorch\n",
    "* dynamic computational graphs allow for flexible model architectures\n",
    "* pythonic interface that integrates seamleslly with the python ecosystem\n",
    "* Extensive debugging capabilities with standard python debugging tools\n",
    "\n",
    "## Performance Optimization\n",
    "* Efficient GPU integration through cuda integration\n",
    "* optimized tensors operatins for numerical computations\n",
    "* Support for distributed training across multiple devices\n",
    "\n",
    "## Theoretical foundation\n",
    "tensors are used to represent\n",
    "\n",
    "## Notation\n",
    "* Scalar: lowercase italic\n",
    "* vector: lowercase bold letters\n",
    "* matrices: Uppercase bold letters\n",
    "* Tensors: Uppercase bold letters with rank notation"
   ]
  },
  {
   "cell_type": "markdown",
   "id": "ff2c1435-24e8-447e-9b14-d957202cba43",
   "metadata": {
    "id": "ff2c1435-24e8-447e-9b14-d957202cba43",
    "jp-MarkdownHeadingCollapsed": true
   },
   "source": [
    "# L1.3 Pytorch environment"
   ]
  },
  {
   "cell_type": "markdown",
   "id": "oNmXdSLuA4nB",
   "metadata": {
    "id": "oNmXdSLuA4nB"
   },
   "source": [
    "ON Computer"
   ]
  },
  {
   "cell_type": "code",
   "execution_count": null,
   "id": "g2yW2dQV9Wak",
   "metadata": {
    "id": "g2yW2dQV9Wak",
    "outputId": "5a7a7612-fe76-4450-8761-4c539eade99b"
   },
   "outputs": [
    {
     "name": "stdout",
     "output_type": "stream",
     "text": [
      "PyTorch version: 2.8.0+cpu\n"
     ]
    }
   ],
   "source": [
    "import torch\n",
    "print(f\"PyTorch version: {torch.__version__}\")"
   ]
  },
  {
   "cell_type": "code",
   "execution_count": null,
   "id": "d3fb7993-0cda-4bde-87ee-2e50d9eda61c",
   "metadata": {
    "id": "d3fb7993-0cda-4bde-87ee-2e50d9eda61c",
    "outputId": "d7618fe8-2ad5-4740-baa6-8d232ca23e0c"
   },
   "outputs": [
    {
     "name": "stdout",
     "output_type": "stream",
     "text": [
      "numpy version 2.2.3\n",
      "matplotlib version 3.10.1\n"
     ]
    }
   ],
   "source": [
    "# Additional libraries\n",
    "# numpy for numerical operarions\n",
    "import numpy as np\n",
    "\n",
    "# matplotlib\n",
    "import matplotlib.pyplot as plt\n",
    "import matplotlib\n",
    "\n",
    "print(f\"numpy version {np.__version__}\")\n",
    "print(f\"matplotlib version {matplotlib.__version__}\")"
   ]
  },
  {
   "cell_type": "code",
   "execution_count": null,
   "id": "e605af26-9d49-44ee-9e04-c706293481f4",
   "metadata": {
    "id": "e605af26-9d49-44ee-9e04-c706293481f4",
    "outputId": "fc900e56-fc79-4331-a15d-66562d2dc5b7"
   },
   "outputs": [
    {
     "name": "stdout",
     "output_type": "stream",
     "text": [
      "CUDA available: False\n"
     ]
    }
   ],
   "source": [
    "# Check for GPU availability\n",
    "print(f\"CUDA available: {torch.cuda.is_available()}\")"
   ]
  },
  {
   "cell_type": "markdown",
   "id": "DENrQJ8MA6JO",
   "metadata": {
    "id": "DENrQJ8MA6JO"
   },
   "source": [
    "ON Colab"
   ]
  },
  {
   "cell_type": "code",
   "execution_count": null,
   "id": "4f8ea981-ffa2-4a6a-86b6-bf51487b0fbb",
   "metadata": {
    "colab": {
     "base_uri": "https://localhost:8080/"
    },
    "id": "4f8ea981-ffa2-4a6a-86b6-bf51487b0fbb",
    "outputId": "d637690f-03af-49ca-a322-56fd44b1fea3"
   },
   "outputs": [
    {
     "name": "stdout",
     "output_type": "stream",
     "text": [
      "PyTorch version: 2.8.0+cu126\n"
     ]
    }
   ],
   "source": [
    "import torch\n",
    "print(f\"PyTorch version: {torch.__version__}\")"
   ]
  },
  {
   "cell_type": "code",
   "execution_count": null,
   "id": "aKSCf5GNA84x",
   "metadata": {
    "colab": {
     "base_uri": "https://localhost:8080/"
    },
    "id": "aKSCf5GNA84x",
    "outputId": "98e3afca-eaa8-43c7-b8fe-d3b6b6559485"
   },
   "outputs": [
    {
     "name": "stdout",
     "output_type": "stream",
     "text": [
      "CUDA available: True\n"
     ]
    }
   ],
   "source": [
    "# Check for GPU availability\n",
    "print(f\"CUDA available: {torch.cuda.is_available()}\")"
   ]
  },
  {
   "cell_type": "markdown",
   "id": "c5f55daf-d2f8-40bd-be05-5021a2db5d43",
   "metadata": {
    "id": "c5f55daf-d2f8-40bd-be05-5021a2db5d43",
    "jp-MarkdownHeadingCollapsed": true
   },
   "source": [
    "# L1.4 - Tensor creation methods"
   ]
  },
  {
   "cell_type": "markdown",
   "id": "b6fbf4f9-9f7d-4c14-97d3-d428ec709ac0",
   "metadata": {
    "id": "b6fbf4f9-9f7d-4c14-97d3-d428ec709ac0"
   },
   "source": [
    "Tensor creation forms the foundation of any deep learning workflow, proving mechanism to:\n",
    "1. Initialize data structures for inputs, parameters and outputs\n",
    "2. control numerical precision through data type specification\n",
    "3. optimize memory usage through appropricate tensor sizing\n",
    "4. ensure model reproducibility through deterministic initialization"
   ]
  },
  {
   "cell_type": "code",
   "execution_count": null,
   "id": "RYarTxgoBEgm",
   "metadata": {
    "id": "RYarTxgoBEgm",
    "outputId": "ec9f1aca-92bc-49d4-bafb-f83bff06140c"
   },
   "outputs": [
    {
     "name": "stdout",
     "output_type": "stream",
     "text": [
      "tensor(7)\n",
      "tensor([1, 2, 3, 4])\n",
      "tensor([[1, 2],\n",
      "        [3, 4]])\n",
      "tensor([[[1, 2],\n",
      "         [3, 4]],\n",
      "\n",
      "        [[5, 6],\n",
      "         [7, 8]]])\n"
     ]
    }
   ],
   "source": [
    "# scalar\n",
    "scalar = torch.tensor(7)\n",
    "print(scalar)\n",
    "\n",
    "# vector\n",
    "vector = torch.tensor([1,2,3,4])\n",
    "print(vector)\n",
    "\n",
    "# matrix\n",
    "matrix = torch.tensor([\n",
    "    [1,2],\n",
    "    [3,4]\n",
    "])\n",
    "print(matrix)\n",
    "\n",
    "# 3D tensor\n",
    "tensor = torch.tensor([\n",
    "    [[1,2],[3,4]],\n",
    "    [[5,6],[7,8]]\n",
    "])\n",
    "print(tensor)"
   ]
  },
  {
   "cell_type": "code",
   "execution_count": null,
   "id": "e8fa4dce-a249-40ec-81f0-f14f9a778baa",
   "metadata": {
    "id": "e8fa4dce-a249-40ec-81f0-f14f9a778baa",
    "outputId": "b2870271-d8de-43cd-d60c-18b8585ddb13"
   },
   "outputs": [
    {
     "data": {
      "text/plain": [
       "torch.Size([2, 2, 2])"
      ]
     },
     "execution_count": 9,
     "metadata": {},
     "output_type": "execute_result"
    }
   ],
   "source": [
    "tensor.shape"
   ]
  },
  {
   "cell_type": "code",
   "execution_count": null,
   "id": "5bb3181b-c159-4e16-8e5c-5320f01467ec",
   "metadata": {
    "id": "5bb3181b-c159-4e16-8e5c-5320f01467ec",
    "outputId": "6898c280-b38e-41ce-d4b4-de5aaf639135"
   },
   "outputs": [
    {
     "data": {
      "text/plain": [
       "3"
      ]
     },
     "execution_count": 12,
     "metadata": {},
     "output_type": "execute_result"
    }
   ],
   "source": [
    "tensor.dim()"
   ]
  },
  {
   "cell_type": "code",
   "execution_count": null,
   "id": "0acc2f72-66f9-4bef-b620-0ce8214c63b0",
   "metadata": {
    "id": "0acc2f72-66f9-4bef-b620-0ce8214c63b0",
    "outputId": "90f07147-c8a7-412b-af1d-50164553f8f8"
   },
   "outputs": [
    {
     "name": "stdout",
     "output_type": "stream",
     "text": [
      "4\n"
     ]
    }
   ],
   "source": [
    "# Data type specification\n",
    "float_tensor = torch.tensor([1.0,2.0,3.0], dtype=torch.float32)\n",
    "\n",
    "print(float_tensor.element_size())"
   ]
  },
  {
   "cell_type": "code",
   "execution_count": null,
   "id": "e3423d42-cb35-43c8-a702-e7816e5215a4",
   "metadata": {
    "id": "e3423d42-cb35-43c8-a702-e7816e5215a4",
    "outputId": "90e70be3-052d-4952-ef89-d1081a56e065"
   },
   "outputs": [
    {
     "name": "stdout",
     "output_type": "stream",
     "text": [
      "tensor([[1, 2, 3],\n",
      "        [4, 5, 6]])\n"
     ]
    }
   ],
   "source": [
    "# Numpy to Tensor\n",
    "np_array = np.array([[1,2,3],[4,5,6]])\n",
    "\n",
    "tensor_from_numpy = torch.from_numpy(np_array)\n",
    "\n",
    "print(tensor_from_numpy)"
   ]
  },
  {
   "cell_type": "code",
   "execution_count": null,
   "id": "e8aef347-2d13-4cff-b9b4-8b8cbacc1e9e",
   "metadata": {
    "id": "e8aef347-2d13-4cff-b9b4-8b8cbacc1e9e",
    "outputId": "b3c0cbd8-5dfc-40cd-e546-575014c3af33"
   },
   "outputs": [
    {
     "name": "stdout",
     "output_type": "stream",
     "text": [
      "tensor([[100,   2,   3],\n",
      "        [  4,   5,   6]])\n"
     ]
    }
   ],
   "source": [
    "# memory is shared\n",
    "np_array[0, 0] = 100\n",
    "print(tensor_from_numpy)"
   ]
  },
  {
   "cell_type": "code",
   "execution_count": null,
   "id": "22f5d343-bd92-4fac-94ce-4a814946e68d",
   "metadata": {
    "id": "22f5d343-bd92-4fac-94ce-4a814946e68d",
    "outputId": "d3eb9ca8-62d2-4cff-c2d0-f208016987c7"
   },
   "outputs": [
    {
     "name": "stdout",
     "output_type": "stream",
     "text": [
      "tensor([[0., 0., 0.],\n",
      "        [0., 0., 0.],\n",
      "        [0., 0., 0.]])\n",
      "tensor([[1., 1., 1.],\n",
      "        [1., 1., 1.],\n",
      "        [1., 1., 1.]])\n",
      "tensor([[0., 0.],\n",
      "        [0., 0.]])\n",
      "tensor([[42, 42],\n",
      "        [42, 42],\n",
      "        [42, 42]])\n"
     ]
    }
   ],
   "source": [
    "# Create empty, ones, zeros tensors\n",
    "\n",
    "# zeros tensor\n",
    "zeros_tensor = torch.zeros(3,3)\n",
    "print(zeros_tensor)\n",
    "\n",
    "ones_tensor = torch.ones(3,3)\n",
    "print(ones_tensor)\n",
    "\n",
    "# doesnt initialize null values,\n",
    "# just chooses addresses in memory and displays whatever the hell is on there\n",
    "empty_tensor = torch.empty(2,2)\n",
    "print(empty_tensor)\n",
    "\n",
    "filled_tensor = torch.full((3,2), 42)\n",
    "print(filled_tensor)\n"
   ]
  },
  {
   "cell_type": "code",
   "execution_count": null,
   "id": "6a55039b-5adb-4631-a67a-8cf0929fba40",
   "metadata": {
    "id": "6a55039b-5adb-4631-a67a-8cf0929fba40",
    "outputId": "4c7ee150-6659-4429-fcee-a857499034ef"
   },
   "outputs": [
    {
     "data": {
      "text/plain": [
       "tensor([[1., 0., 0.],\n",
       "        [0., 1., 0.],\n",
       "        [0., 0., 1.]])"
      ]
     },
     "execution_count": 18,
     "metadata": {},
     "output_type": "execute_result"
    }
   ],
   "source": [
    "# Identity matrices\n",
    "I = torch.eye(3)\n",
    "I"
   ]
  },
  {
   "cell_type": "code",
   "execution_count": null,
   "id": "8829e39c-8580-4aa1-8763-3ffd808d724d",
   "metadata": {
    "id": "8829e39c-8580-4aa1-8763-3ffd808d724d",
    "outputId": "2300896d-874a-4ce6-84c0-b5b684f3c276"
   },
   "outputs": [
    {
     "data": {
      "text/plain": [
       "tensor([[1., 0., 0., 0.],\n",
       "        [0., 1., 0., 0.]])"
      ]
     },
     "execution_count": 27,
     "metadata": {},
     "output_type": "execute_result"
    }
   ],
   "source": [
    "# non square identity\n",
    "I2 = torch.eye(2,4)\n",
    "I2"
   ]
  },
  {
   "cell_type": "code",
   "execution_count": null,
   "id": "22c61bde-c5f2-47ca-96a5-43555bb7ab94",
   "metadata": {
    "id": "22c61bde-c5f2-47ca-96a5-43555bb7ab94",
    "outputId": "743a24bb-ef0f-4ba4-ced2-281d7e488973"
   },
   "outputs": [
    {
     "data": {
      "text/plain": [
       "tensor([0.0000, 0.2500, 0.5000, 0.7500, 1.0000])"
      ]
     },
     "execution_count": 23,
     "metadata": {},
     "output_type": "execute_result"
    }
   ],
   "source": [
    "# Creating sequential tensors\n",
    "\n",
    "# 1. linear spacing\n",
    "# tensor with 5 valus evenly spaced between 0 and 1\n",
    "linear_tensor = torch.linspace(0,1,5)\n",
    "linear_tensor"
   ]
  },
  {
   "cell_type": "code",
   "execution_count": null,
   "id": "1515ecdb-7782-46f6-a338-af9ec6390e08",
   "metadata": {
    "id": "1515ecdb-7782-46f6-a338-af9ec6390e08",
    "outputId": "82e2f1f4-add3-4216-9cd2-5d820abdd217"
   },
   "outputs": [
    {
     "data": {
      "text/plain": [
       "tensor([   10.,   100.,  1000., 10000.])"
      ]
     },
     "execution_count": 24,
     "metadata": {},
     "output_type": "execute_result"
    }
   ],
   "source": [
    "# 2. logarithmic spacing\n",
    "log_tensor = torch.logspace(1, 4, 4)\n",
    "log_tensor"
   ]
  },
  {
   "cell_type": "code",
   "execution_count": null,
   "id": "97686794-d8bb-4e56-bb30-20cbd530f24d",
   "metadata": {
    "id": "97686794-d8bb-4e56-bb30-20cbd530f24d",
    "outputId": "f0b396ac-7d9f-424f-e670-1beaa28468f5"
   },
   "outputs": [
    {
     "data": {
      "text/plain": [
       "tensor([0, 1, 2, 3, 4, 5, 6, 7, 8])"
      ]
     },
     "execution_count": 25,
     "metadata": {},
     "output_type": "execute_result"
    }
   ],
   "source": [
    "# 3. arrange values from 0 to 9\n",
    "range_tensor = torch.arange(0,9)\n",
    "range_tensor"
   ]
  },
  {
   "cell_type": "code",
   "execution_count": null,
   "id": "2baeef21-d854-476d-b6c2-793529d1057e",
   "metadata": {
    "id": "2baeef21-d854-476d-b6c2-793529d1057e",
    "outputId": "e55c9f02-c922-44b9-e8ab-ea58ade32b15"
   },
   "outputs": [
    {
     "data": {
      "text/plain": [
       "tensor([0.0000, 1.7500, 3.5000, 5.2500, 7.0000, 8.7500])"
      ]
     },
     "execution_count": 26,
     "metadata": {},
     "output_type": "execute_result"
    }
   ],
   "source": [
    "# 4. Step tensor\n",
    "step_tensor = torch.arange(0, 10, 1.75)\n",
    "step_tensor"
   ]
  },
  {
   "cell_type": "code",
   "execution_count": null,
   "id": "77a1135c-2134-4d66-a8b9-f8c67f367188",
   "metadata": {
    "id": "77a1135c-2134-4d66-a8b9-f8c67f367188",
    "outputId": "198cd5cd-01e1-4924-baa1-28fb2e6db33b"
   },
   "outputs": [
    {
     "data": {
      "text/plain": [
       "tensor([[1, 0, 0],\n",
       "        [0, 2, 0],\n",
       "        [0, 0, 3]])"
      ]
     },
     "execution_count": 29,
     "metadata": {},
     "output_type": "execute_result"
    }
   ],
   "source": [
    "# Diagonmal matrices\n",
    "diag = torch.diag(torch.tensor([1,2,3]))\n",
    "diag"
   ]
  },
  {
   "cell_type": "code",
   "execution_count": null,
   "id": "d7df0a7b-14e5-4d52-8c60-1a762a488451",
   "metadata": {
    "id": "d7df0a7b-14e5-4d52-8c60-1a762a488451",
    "outputId": "fe28224b-3195-4f47-ccf7-294f1d60b3bd"
   },
   "outputs": [
    {
     "data": {
      "text/plain": [
       "tensor([1, 5, 9])"
      ]
     },
     "execution_count": 30,
     "metadata": {},
     "output_type": "execute_result"
    }
   ],
   "source": [
    "mat = torch.tensor([\n",
    "    [1,2,3],\n",
    "    [4,5,6],\n",
    "    [7,8,9]\n",
    "])\n",
    "torch.diag(mat)"
   ]
  },
  {
   "cell_type": "markdown",
   "id": "98889975-98a2-49a9-b0eb-a57170dd0199",
   "metadata": {
    "id": "98889975-98a2-49a9-b0eb-a57170dd0199",
    "jp-MarkdownHeadingCollapsed": true
   },
   "source": [
    "# L1.5 - Tensor Manipulation Methods"
   ]
  },
  {
   "cell_type": "code",
   "execution_count": null,
   "id": "7be94a42-9fe7-4330-958f-cdc20cd3f0de",
   "metadata": {
    "id": "7be94a42-9fe7-4330-958f-cdc20cd3f0de",
    "outputId": "f7df5ff8-5668-4cef-ea37-dffe465be97a"
   },
   "outputs": [
    {
     "data": {
      "text/plain": [
       "tensor([[0.3497, 0.9385, 0.8205, 0.3868],\n",
       "        [0.3590, 0.1507, 0.6423, 0.8876],\n",
       "        [0.0165, 0.6045, 0.7368, 0.3323]])"
      ]
     },
     "execution_count": 1,
     "metadata": {},
     "output_type": "execute_result"
    }
   ],
   "source": [
    "import torch\n",
    "# Random Tensor\n",
    "rand_tensor = torch.rand(size=(3,4))\n",
    "rand_tensor"
   ]
  },
  {
   "cell_type": "code",
   "execution_count": null,
   "id": "929afe83-b00f-420b-a45d-c462af600be8",
   "metadata": {
    "id": "929afe83-b00f-420b-a45d-c462af600be8",
    "outputId": "26e35d6e-8923-45c0-bbf2-fc3894187cc3"
   },
   "outputs": [
    {
     "name": "stdout",
     "output_type": "stream",
     "text": [
      "Min value: 0.016495\n",
      "Max value: 0.938481\n",
      "mean value: 0.518757\n",
      "sigma value: 0.296565\n"
     ]
    }
   ],
   "source": [
    "print(f\"Min value: {torch.min(rand_tensor).item():.6f}\")\n",
    "\n",
    "print(f\"Max value: {torch.max(rand_tensor).item():.6f}\")\n",
    "\n",
    "print(f\"mean value: {torch.mean(rand_tensor).item():.6f}\")\n",
    "\n",
    "print(f\"sigma value: {torch.std(rand_tensor).item():.6f}\")"
   ]
  },
  {
   "cell_type": "code",
   "execution_count": null,
   "id": "c9a4ee72-224c-4ef0-98db-d428e2764952",
   "metadata": {
    "id": "c9a4ee72-224c-4ef0-98db-d428e2764952",
    "outputId": "1d6c50c3-3bf2-41b3-fdd8-9ff41e497375"
   },
   "outputs": [
    {
     "name": "stdout",
     "output_type": "stream",
     "text": [
      "Theoretical std: 0.288675\n"
     ]
    }
   ],
   "source": [
    "# Theoretical std\n",
    "theoretical_std = 1.0/(12 ** 0.5)\n",
    "print(f\"Theoretical std: {theoretical_std:.6f}\")"
   ]
  },
  {
   "cell_type": "code",
   "execution_count": null,
   "id": "5c971a03-5c4f-42cf-8e0f-52b6a784b7f2",
   "metadata": {
    "id": "5c971a03-5c4f-42cf-8e0f-52b6a784b7f2",
    "outputId": "1aa96b88-d858-47e9-d0d8-8fa652cdbddb"
   },
   "outputs": [
    {
     "name": "stdout",
     "output_type": "stream",
     "text": [
      "tensor: tensor([[[0.7207, 0.5879, 0.5509],\n",
      "         [0.0262, 0.2247, 0.2531],\n",
      "         [0.9825, 0.4592, 0.8357],\n",
      "         ...,\n",
      "         [0.3068, 0.3260, 0.9011],\n",
      "         [0.2741, 0.4767, 0.2637],\n",
      "         [0.1384, 0.5522, 0.8968]],\n",
      "\n",
      "        [[0.2918, 0.5903, 0.5991],\n",
      "         [0.1710, 0.9614, 0.9425],\n",
      "         [0.8386, 0.0910, 0.0216],\n",
      "         ...,\n",
      "         [0.1384, 0.9036, 0.6075],\n",
      "         [0.1949, 0.0901, 0.8175],\n",
      "         [0.5470, 0.7143, 0.2584]],\n",
      "\n",
      "        [[0.9564, 0.7055, 0.2621],\n",
      "         [0.4984, 0.6837, 0.8362],\n",
      "         [0.7403, 0.2765, 0.1719],\n",
      "         ...,\n",
      "         [0.3088, 0.7172, 0.4323],\n",
      "         [0.0612, 0.1075, 0.0787],\n",
      "         [0.0738, 0.4626, 0.7423]],\n",
      "\n",
      "        ...,\n",
      "\n",
      "        [[0.0538, 0.8010, 0.5307],\n",
      "         [0.6675, 0.3210, 0.6036],\n",
      "         [0.4021, 0.3645, 0.1297],\n",
      "         ...,\n",
      "         [0.3662, 0.7464, 0.5394],\n",
      "         [0.3449, 0.6532, 0.2733],\n",
      "         [0.1032, 0.8769, 0.9875]],\n",
      "\n",
      "        [[0.2987, 0.5662, 0.3114],\n",
      "         [0.5840, 0.7161, 0.3661],\n",
      "         [0.4801, 0.5991, 0.5448],\n",
      "         ...,\n",
      "         [0.1452, 0.2681, 0.9684],\n",
      "         [0.4506, 0.7433, 0.5410],\n",
      "         [0.9580, 0.1338, 0.3635]],\n",
      "\n",
      "        [[0.6670, 0.9408, 0.7966],\n",
      "         [0.3078, 0.0250, 0.2863],\n",
      "         [0.7757, 0.9629, 0.0038],\n",
      "         ...,\n",
      "         [0.7580, 0.6416, 0.3596],\n",
      "         [0.7016, 0.8300, 0.8197],\n",
      "         [0.3976, 0.3954, 0.2931]]])\n"
     ]
    }
   ],
   "source": [
    "# Computer vision\n",
    "random_image_size_tensor = torch.rand(size=(224,224,3))\n",
    "print(f\"tensor: {random_image_size_tensor}\")\n"
   ]
  },
  {
   "cell_type": "code",
   "execution_count": null,
   "id": "313cdd2a-0555-4046-a01a-8fcb2e977187",
   "metadata": {
    "id": "313cdd2a-0555-4046-a01a-8fcb2e977187",
    "outputId": "26b8521e-b94f-47f2-8ad9-cb67f48f36c1"
   },
   "outputs": [
    {
     "data": {
      "text/plain": [
       "4"
      ]
     },
     "execution_count": 8,
     "metadata": {},
     "output_type": "execute_result"
    }
   ],
   "source": [
    "# bytes per element\n",
    "random_image_size_tensor.element_size()"
   ]
  },
  {
   "cell_type": "code",
   "execution_count": null,
   "id": "0fb8fc88-2ec9-4ec1-853e-ce9c8689dc2e",
   "metadata": {
    "id": "0fb8fc88-2ec9-4ec1-853e-ce9c8689dc2e",
    "outputId": "7400a334-fd6e-4c47-d442-822c55d056fa"
   },
   "outputs": [
    {
     "data": {
      "text/plain": [
       "602112"
      ]
     },
     "execution_count": 10,
     "metadata": {},
     "output_type": "execute_result"
    }
   ],
   "source": [
    "# total memory\n",
    "random_image_size_tensor.numel() * random_image_size_tensor.element_size()"
   ]
  },
  {
   "cell_type": "markdown",
   "id": "86b36a87-d8d6-41f2-a259-955e41eb4c50",
   "metadata": {
    "id": "86b36a87-d8d6-41f2-a259-955e41eb4c50"
   },
   "source": [
    "Standard image formats in deep learning\n",
    "* Imagenet standard: 224x 224x3\n",
    "* CIFAR-10: 32x32x3\n",
    "* MNIST: 28x28x1\n",
    "*"
   ]
  },
  {
   "cell_type": "code",
   "execution_count": null,
   "id": "efde865d-7136-4527-8209-67907eec9d02",
   "metadata": {
    "id": "efde865d-7136-4527-8209-67907eec9d02",
    "outputId": "20184f59-743e-4f65-af63-15b266413547"
   },
   "outputs": [
    {
     "data": {
      "text/plain": [
       "tensor([0, 1, 2, 3, 4, 5, 6, 7, 8, 9])"
      ]
     },
     "execution_count": 3,
     "metadata": {},
     "output_type": "execute_result"
    }
   ],
   "source": [
    "import torch\n",
    "zero_to_ten = torch.arange(start=0, end=10, step=1)\n",
    "zero_to_ten"
   ]
  },
  {
   "cell_type": "code",
   "execution_count": null,
   "id": "ef38d7bd-d1e7-4950-acec-2475f223eac7",
   "metadata": {
    "id": "ef38d7bd-d1e7-4950-acec-2475f223eac7",
    "outputId": "8c749633-2fc2-4560-be79-650c94d552e9"
   },
   "outputs": [
    {
     "data": {
      "text/plain": [
       "tensor([0, 0, 0, 0, 0, 0, 0, 0, 0, 0])"
      ]
     },
     "execution_count": 6,
     "metadata": {},
     "output_type": "execute_result"
    }
   ],
   "source": [
    "# build a tensor of a similar shape to the input tensor\n",
    "ten_zeros = torch.zeros_like(input=zero_to_ten)\n",
    "ten_zeros"
   ]
  },
  {
   "cell_type": "code",
   "execution_count": null,
   "id": "13895fdd-b8aa-4b2b-b0fa-c98cdbb8a7fa",
   "metadata": {
    "id": "13895fdd-b8aa-4b2b-b0fa-c98cdbb8a7fa",
    "outputId": "cf92a09c-95ef-4a6c-ab6f-4b9de604bc65"
   },
   "outputs": [
    {
     "data": {
      "text/plain": [
       "torch.float32"
      ]
     },
     "execution_count": 7,
     "metadata": {},
     "output_type": "execute_result"
    }
   ],
   "source": [
    "float_32_tensor = torch.tensor([3.0,6.0,9.0],\n",
    "                               dtype=None,\n",
    "                               device=None,\n",
    "                               requires_grad=False)\n",
    "float_32_tensor.dtype"
   ]
  },
  {
   "cell_type": "code",
   "execution_count": null,
   "id": "3e36d53d-a534-4d33-ad32-a247ca32c316",
   "metadata": {
    "id": "3e36d53d-a534-4d33-ad32-a247ca32c316",
    "outputId": "de115957-0f39-4c35-fda4-385908cbf6bb"
   },
   "outputs": [
    {
     "data": {
      "text/plain": [
       "tensor([11, 12, 13])"
      ]
     },
     "execution_count": 8,
     "metadata": {},
     "output_type": "execute_result"
    }
   ],
   "source": [
    "# additiona\n",
    "tensor = torch.tensor([1,2,3])\n",
    "tensor + 10"
   ]
  },
  {
   "cell_type": "code",
   "execution_count": null,
   "id": "4ed05a83-3a56-4972-b1a2-9b3c477ab443",
   "metadata": {
    "id": "4ed05a83-3a56-4972-b1a2-9b3c477ab443",
    "outputId": "95283e54-c89d-49dc-ca6b-b931b3dac008"
   },
   "outputs": [
    {
     "data": {
      "text/plain": [
       "tensor([10, 20, 30])"
      ]
     },
     "execution_count": 9,
     "metadata": {},
     "output_type": "execute_result"
    }
   ],
   "source": [
    "tensor * 10"
   ]
  },
  {
   "cell_type": "code",
   "execution_count": null,
   "id": "2ee8e99c-1fe3-43d6-9f3e-f0b0ea5e1f15",
   "metadata": {
    "id": "2ee8e99c-1fe3-43d6-9f3e-f0b0ea5e1f15",
    "outputId": "50a33aee-7dd6-4a51-fe92-3e7ed89776b0"
   },
   "outputs": [
    {
     "data": {
      "text/plain": [
       "tensor([10, 20, 30])"
      ]
     },
     "execution_count": 10,
     "metadata": {},
     "output_type": "execute_result"
    }
   ],
   "source": [
    "# Built functions\n",
    "torch.multiply(tensor, 10)"
   ]
  },
  {
   "cell_type": "code",
   "execution_count": null,
   "id": "5bd48508-aa20-40f5-bf69-b2256627046f",
   "metadata": {
    "id": "5bd48508-aa20-40f5-bf69-b2256627046f",
    "outputId": "1929ce65-7c8a-4f1f-caf3-dcdaf5665c7a"
   },
   "outputs": [
    {
     "ename": "RuntimeError",
     "evalue": "self must be a matrix",
     "output_type": "error",
     "traceback": [
      "\u001b[1;31m---------------------------------------------------------------------------\u001b[0m",
      "\u001b[1;31mRuntimeError\u001b[0m                              Traceback (most recent call last)",
      "Cell \u001b[1;32mIn[15], line 7\u001b[0m\n\u001b[0;32m      5\u001b[0m torch\u001b[38;5;241m.\u001b[39mmatmul(A, B)\n\u001b[0;32m      6\u001b[0m \u001b[38;5;66;03m# Notation 2 only for 2D\u001b[39;00m\n\u001b[1;32m----> 7\u001b[0m \u001b[43mtorch\u001b[49m\u001b[38;5;241;43m.\u001b[39;49m\u001b[43mmm\u001b[49m\u001b[43m(\u001b[49m\u001b[43mA\u001b[49m\u001b[43m,\u001b[49m\u001b[43m \u001b[49m\u001b[43mB\u001b[49m\u001b[43m)\u001b[49m\n\u001b[0;32m      8\u001b[0m \u001b[38;5;66;03m# notation 2\u001b[39;00m\n\u001b[0;32m      9\u001b[0m A \u001b[38;5;241m@\u001b[39m B\n",
      "\u001b[1;31mRuntimeError\u001b[0m: self must be a matrix"
     ]
    }
   ],
   "source": [
    "# Matrix multiplication\n",
    "A = torch.tensor([0, 1, 2])\n",
    "B = torch.tensor([[0], [1], [2]])\n",
    "# Notation 1 (dimensions must be compatiable)\n",
    "torch.matmul(A, B)\n",
    "# Notation 2 only for 2D\n",
    "torch.mm(A, B)\n",
    "# notation 2\n",
    "A @ B"
   ]
  },
  {
   "cell_type": "markdown",
   "id": "158ffc69-936c-4a6c-a65e-61c85a7a601d",
   "metadata": {
    "id": "158ffc69-936c-4a6c-a65e-61c85a7a601d",
    "jp-MarkdownHeadingCollapsed": true
   },
   "source": [
    "# L1.6 - Reshaping methods"
   ]
  },
  {
   "cell_type": "code",
   "execution_count": null,
   "id": "a6507dc0-5ef2-433e-b01f-ec418c69a3af",
   "metadata": {
    "id": "a6507dc0-5ef2-433e-b01f-ec418c69a3af",
    "outputId": "8437334b-50ea-4ff3-a462-9a5b6c0bfa8d"
   },
   "outputs": [
    {
     "data": {
      "text/plain": [
       "(tensor([1., 2., 3., 4., 5., 6., 7.]), torch.Size([7]))"
      ]
     },
     "execution_count": 2,
     "metadata": {},
     "output_type": "execute_result"
    }
   ],
   "source": [
    "import torch\n",
    "x = torch.arange(1., 8)\n",
    "x, x.shape"
   ]
  },
  {
   "cell_type": "code",
   "execution_count": null,
   "id": "88b45d2c-3558-4a5a-b31c-ac3ef7b0806a",
   "metadata": {
    "id": "88b45d2c-3558-4a5a-b31c-ac3ef7b0806a",
    "outputId": "2072f517-5823-41cb-bc21-09f1fd2a347b"
   },
   "outputs": [
    {
     "data": {
      "text/plain": [
       "(tensor([[1., 2., 3., 4., 5., 6., 7.]]), torch.Size([1, 7]))"
      ]
     },
     "execution_count": 3,
     "metadata": {},
     "output_type": "execute_result"
    }
   ],
   "source": [
    "y = x.reshape(1,7)\n",
    "y, y.shape"
   ]
  },
  {
   "cell_type": "code",
   "execution_count": null,
   "id": "a39cbbb4-662a-442d-a4b6-730635a2151a",
   "metadata": {
    "id": "a39cbbb4-662a-442d-a4b6-730635a2151a",
    "outputId": "f4b3a868-345a-49fd-ded1-c230839102ce"
   },
   "outputs": [
    {
     "data": {
      "text/plain": [
       "(tensor([[1., 2., 3., 4., 5., 6., 7.]]), torch.Size([1, 7]))"
      ]
     },
     "execution_count": 4,
     "metadata": {},
     "output_type": "execute_result"
    }
   ],
   "source": [
    "z = x.view(1,7)\n",
    "z, z.shape"
   ]
  },
  {
   "cell_type": "code",
   "execution_count": null,
   "id": "e6858bc1-1cc5-421b-b8ab-f31fd216d544",
   "metadata": {
    "id": "e6858bc1-1cc5-421b-b8ab-f31fd216d544",
    "outputId": "6af1e7e4-78a4-40a1-b883-0ffeb2fe72d8"
   },
   "outputs": [
    {
     "data": {
      "text/plain": [
       "(tensor([[5., 2., 3., 4., 5., 6., 7.]]), tensor([5., 2., 3., 4., 5., 6., 7.]))"
      ]
     },
     "execution_count": 5,
     "metadata": {},
     "output_type": "execute_result"
    }
   ],
   "source": [
    "z[:, 0] = 5\n",
    "z, x"
   ]
  },
  {
   "cell_type": "code",
   "execution_count": null,
   "id": "de859990-d9b2-49a5-abc6-5f25de1ada6d",
   "metadata": {
    "id": "de859990-d9b2-49a5-abc6-5f25de1ada6d",
    "outputId": "83517f32-3bf9-4b45-b140-16ddfb0d5045"
   },
   "outputs": [
    {
     "data": {
      "text/plain": [
       "(tensor([[ 5., 69.,  3.,  4.,  5.,  6.,  7.]]),\n",
       " tensor([ 5., 69.,  3.,  4.,  5.,  6.,  7.]))"
      ]
     },
     "execution_count": 7,
     "metadata": {},
     "output_type": "execute_result"
    }
   ],
   "source": [
    "y[:,1] = 69\n",
    "y, x"
   ]
  },
  {
   "cell_type": "code",
   "execution_count": null,
   "id": "936007d1-e6d2-4ce8-b538-eb1f9f603096",
   "metadata": {
    "id": "936007d1-e6d2-4ce8-b538-eb1f9f603096",
    "outputId": "d42fe161-5833-4610-c26b-7164c8fc0a84"
   },
   "outputs": [
    {
     "data": {
      "text/plain": [
       "tensor([[ 5., 69.,  3.,  4.,  5.,  6.,  7.],\n",
       "        [ 5., 69.,  3.,  4.,  5.,  6.,  7.],\n",
       "        [ 5., 69.,  3.,  4.,  5.,  6.,  7.],\n",
       "        [ 5., 69.,  3.,  4.,  5.,  6.,  7.]])"
      ]
     },
     "execution_count": 9,
     "metadata": {},
     "output_type": "execute_result"
    }
   ],
   "source": [
    "xs0 = torch.stack([x, x, x, x], dim=0)\n",
    "xs0"
   ]
  },
  {
   "cell_type": "code",
   "execution_count": null,
   "id": "a32cabe4-3ffd-461c-93f9-228e039c90ff",
   "metadata": {
    "id": "a32cabe4-3ffd-461c-93f9-228e039c90ff",
    "outputId": "cc464712-1c77-4935-ac6e-b7e4d641c541"
   },
   "outputs": [
    {
     "data": {
      "text/plain": [
       "tensor([[ 5.,  5.,  5.,  5.],\n",
       "        [69., 69., 69., 69.],\n",
       "        [ 3.,  3.,  3.,  3.],\n",
       "        [ 4.,  4.,  4.,  4.],\n",
       "        [ 5.,  5.,  5.,  5.],\n",
       "        [ 6.,  6.,  6.,  6.],\n",
       "        [ 7.,  7.,  7.,  7.]])"
      ]
     },
     "execution_count": 10,
     "metadata": {},
     "output_type": "execute_result"
    }
   ],
   "source": [
    "xs1 = torch.stack([x, x, x, x], dim=1)\n",
    "xs1"
   ]
  },
  {
   "cell_type": "code",
   "execution_count": null,
   "id": "839bdb93-abe8-4ff8-af38-e3857ea0bfc2",
   "metadata": {
    "id": "839bdb93-abe8-4ff8-af38-e3857ea0bfc2",
    "outputId": "a88fbf09-dd5c-4a19-e837-040b457a2858"
   },
   "outputs": [
    {
     "data": {
      "text/plain": [
       "(torch.Size([4, 7]), torch.Size([7, 4]))"
      ]
     },
     "execution_count": 11,
     "metadata": {},
     "output_type": "execute_result"
    }
   ],
   "source": [
    "xs0.shape, xs1.shape"
   ]
  },
  {
   "cell_type": "code",
   "execution_count": null,
   "id": "e954363b-606f-44ab-bcd0-94b46077bfb7",
   "metadata": {
    "id": "e954363b-606f-44ab-bcd0-94b46077bfb7",
    "outputId": "8fd0101b-c012-4d69-9111-eb43014549bb"
   },
   "outputs": [
    {
     "data": {
      "text/plain": [
       "(torch.Size([1, 7]),\n",
       " torch.Size([7]),\n",
       " tensor([ 5., 69.,  3.,  4.,  5.,  6.,  7.]))"
      ]
     },
     "execution_count": 13,
     "metadata": {},
     "output_type": "execute_result"
    }
   ],
   "source": [
    "# squeeze\n",
    "x_squeeze = y.squeeze()\n",
    "y.shape, x_squeeze.shape, x_squeeze"
   ]
  },
  {
   "cell_type": "code",
   "execution_count": null,
   "id": "0aa84262-5342-49f2-8f85-ad122c28fa5f",
   "metadata": {
    "id": "0aa84262-5342-49f2-8f85-ad122c28fa5f",
    "outputId": "ff999571-f27d-4baa-e8e4-5574a83d09d7"
   },
   "outputs": [
    {
     "data": {
      "text/plain": [
       "(tensor([[ 5.],\n",
       "         [69.],\n",
       "         [ 3.],\n",
       "         [ 4.],\n",
       "         [ 5.],\n",
       "         [ 6.],\n",
       "         [ 7.]]),\n",
       " torch.Size([7, 1]))"
      ]
     },
     "execution_count": 17,
     "metadata": {},
     "output_type": "execute_result"
    }
   ],
   "source": [
    "z = x_squeeze.unsqueeze(dim=1)\n",
    "z, z.shape"
   ]
  },
  {
   "cell_type": "code",
   "execution_count": null,
   "id": "74475e85-86ef-4327-a143-c904d20abfa2",
   "metadata": {
    "id": "74475e85-86ef-4327-a143-c904d20abfa2",
    "outputId": "a01d03ea-214e-492b-f451-6f32c70b411a"
   },
   "outputs": [
    {
     "data": {
      "text/plain": [
       "(torch.Size([224, 224, 3]), torch.Size([3, 224, 224]))"
      ]
     },
     "execution_count": 18,
     "metadata": {},
     "output_type": "execute_result"
    }
   ],
   "source": [
    "x = torch.rand(size=[224,224,3])\n",
    "y = x.permute(2,0,1)\n",
    "x.shape, y.shape"
   ]
  },
  {
   "cell_type": "code",
   "execution_count": null,
   "id": "8e79488c-78ff-4ed7-ba3b-265a59ed40b5",
   "metadata": {
    "id": "8e79488c-78ff-4ed7-ba3b-265a59ed40b5",
    "outputId": "713775e2-5d30-4dbc-ea09-5cc4b08ea7a5"
   },
   "outputs": [
    {
     "data": {
      "text/plain": [
       "tensor([[[1, 2, 3],\n",
       "         [4, 5, 6],\n",
       "         [7, 8, 9]]])"
      ]
     },
     "execution_count": 19,
     "metadata": {},
     "output_type": "execute_result"
    }
   ],
   "source": [
    "x = torch.arange(1,10).reshape(1,3,3)\n",
    "x"
   ]
  },
  {
   "cell_type": "markdown",
   "id": "fd18c184-9866-47e7-b97a-5985207224ff",
   "metadata": {
    "id": "fd18c184-9866-47e7-b97a-5985207224ff",
    "jp-MarkdownHeadingCollapsed": true
   },
   "source": [
    "# L1.7 - PyTorch and NumPy Integration"
   ]
  },
  {
   "cell_type": "code",
   "execution_count": null,
   "id": "50b076c8-81be-4db9-8441-55b0beb71144",
   "metadata": {
    "id": "50b076c8-81be-4db9-8441-55b0beb71144",
    "outputId": "5e05958b-4cf1-489e-e7ca-140a4e99dd56"
   },
   "outputs": [
    {
     "data": {
      "text/plain": [
       "tensor([1, 2, 3, 4, 5, 6, 7])"
      ]
     },
     "execution_count": 21,
     "metadata": {},
     "output_type": "execute_result"
    }
   ],
   "source": [
    "import numpy as np\n",
    "import torch\n",
    "# From numpy to tensor\n",
    "x = np.arange(1,8)\n",
    "t = torch.from_numpy(x)\n",
    "t"
   ]
  },
  {
   "cell_type": "code",
   "execution_count": null,
   "id": "3767dc67-2c8e-4612-93a5-ad26d234a4e7",
   "metadata": {
    "id": "3767dc67-2c8e-4612-93a5-ad26d234a4e7",
    "outputId": "e7a380b8-eb75-4c08-c5d6-7d75ae7ff35f"
   },
   "outputs": [
    {
     "data": {
      "text/plain": [
       "array([1, 2, 3, 4, 5, 6, 7])"
      ]
     },
     "execution_count": 22,
     "metadata": {},
     "output_type": "execute_result"
    }
   ],
   "source": [
    "# From tensor to numpy\n",
    "y = t.numpy()\n",
    "y"
   ]
  },
  {
   "cell_type": "markdown",
   "id": "7166b72e-6e67-4e5f-aadb-b8d5e2e389cd",
   "metadata": {
    "id": "7166b72e-6e67-4e5f-aadb-b8d5e2e389cd",
    "jp-MarkdownHeadingCollapsed": true
   },
   "source": [
    "# L1.8 - Reproducibility in PyTorch"
   ]
  },
  {
   "cell_type": "code",
   "execution_count": null,
   "id": "fa05d649-0397-4c18-aa26-ac468f2e6bac",
   "metadata": {
    "id": "fa05d649-0397-4c18-aa26-ac468f2e6bac",
    "outputId": "5c0a2c5f-bae3-4820-d6a2-452582a1ead9"
   },
   "outputs": [
    {
     "data": {
      "text/plain": [
       "tensor([[0.8823, 0.9150, 0.3829, 0.9593],\n",
       "        [0.3904, 0.6009, 0.2566, 0.7936],\n",
       "        [0.9408, 0.1332, 0.9346, 0.5936]])"
      ]
     },
     "execution_count": 27,
     "metadata": {},
     "output_type": "execute_result"
    }
   ],
   "source": [
    "RANDOM_SEED = 42\n",
    "torch.manual_seed(RANDOM_SEED)\n",
    "\n",
    "random_tensor_a = torch.rand(3,4)\n",
    "\n",
    "random_tensor_a"
   ]
  },
  {
   "cell_type": "markdown",
   "id": "aefec129-86ef-4466-af3e-63777c894a65",
   "metadata": {
    "id": "aefec129-86ef-4466-af3e-63777c894a65",
    "jp-MarkdownHeadingCollapsed": true
   },
   "source": [
    "# L1.9 Hardware Acceleratio in PyTorch"
   ]
  },
  {
   "cell_type": "code",
   "execution_count": 1,
   "id": "c9cce676-4487-4119-b00f-172c8410155e",
   "metadata": {
    "colab": {
     "base_uri": "https://localhost:8080/"
    },
    "id": "c9cce676-4487-4119-b00f-172c8410155e",
    "outputId": "ee07a912-cafc-4fcc-e9f4-9b5c2c985966"
   },
   "outputs": [
    {
     "name": "stdout",
     "output_type": "stream",
     "text": [
      "Wed Oct 15 15:49:57 2025       \n",
      "+-----------------------------------------------------------------------------------------+\n",
      "| NVIDIA-SMI 550.54.15              Driver Version: 550.54.15      CUDA Version: 12.4     |\n",
      "|-----------------------------------------+------------------------+----------------------+\n",
      "| GPU  Name                 Persistence-M | Bus-Id          Disp.A | Volatile Uncorr. ECC |\n",
      "| Fan  Temp   Perf          Pwr:Usage/Cap |           Memory-Usage | GPU-Util  Compute M. |\n",
      "|                                         |                        |               MIG M. |\n",
      "|=========================================+========================+======================|\n",
      "|   0  Tesla T4                       Off |   00000000:00:04.0 Off |                    0 |\n",
      "| N/A   68C    P8             11W /   70W |       0MiB /  15360MiB |      0%      Default |\n",
      "|                                         |                        |                  N/A |\n",
      "+-----------------------------------------+------------------------+----------------------+\n",
      "                                                                                         \n",
      "+-----------------------------------------------------------------------------------------+\n",
      "| Processes:                                                                              |\n",
      "|  GPU   GI   CI        PID   Type   Process name                              GPU Memory |\n",
      "|        ID   ID                                                               Usage      |\n",
      "|=========================================================================================|\n",
      "|  No running processes found                                                             |\n",
      "+-----------------------------------------------------------------------------------------+\n"
     ]
    }
   ],
   "source": [
    "!nvidia-smi"
   ]
  },
  {
   "cell_type": "code",
   "execution_count": 2,
   "id": "38ba00ec-515c-42f1-9d62-3f157e1c407f",
   "metadata": {
    "colab": {
     "base_uri": "https://localhost:8080/"
    },
    "id": "38ba00ec-515c-42f1-9d62-3f157e1c407f",
    "outputId": "0b8c3b72-8a84-4106-81ac-d2eddc169056"
   },
   "outputs": [
    {
     "data": {
      "text/plain": [
       "True"
      ]
     },
     "execution_count": 2,
     "metadata": {},
     "output_type": "execute_result"
    }
   ],
   "source": [
    "import torch\n",
    "\n",
    "cuda_available = torch.cuda.is_available()\n",
    "\n",
    "cuda_available"
   ]
  },
  {
   "cell_type": "code",
   "execution_count": 4,
   "id": "ykkljm4BkW79",
   "metadata": {
    "colab": {
     "base_uri": "https://localhost:8080/"
    },
    "id": "ykkljm4BkW79",
    "outputId": "54719334-c686-4f7c-b223-8760286040ae"
   },
   "outputs": [
    {
     "data": {
      "text/plain": [
       "1"
      ]
     },
     "execution_count": 4,
     "metadata": {},
     "output_type": "execute_result"
    }
   ],
   "source": [
    "torch.cuda.device_count()"
   ]
  },
  {
   "cell_type": "code",
   "execution_count": 7,
   "id": "8y9CxJTXkh74",
   "metadata": {
    "colab": {
     "base_uri": "https://localhost:8080/",
     "height": 35
    },
    "id": "8y9CxJTXkh74",
    "outputId": "78d3c9e8-2112-4f38-c303-91de5839768d"
   },
   "outputs": [
    {
     "data": {
      "application/vnd.google.colaboratory.intrinsic+json": {
       "type": "string"
      },
      "text/plain": [
       "'Tesla T4'"
      ]
     },
     "execution_count": 7,
     "metadata": {},
     "output_type": "execute_result"
    }
   ],
   "source": [
    "torch.cuda.get_device_name(0)"
   ]
  },
  {
   "cell_type": "code",
   "execution_count": 9,
   "id": "no7tvMigkxSd",
   "metadata": {
    "colab": {
     "base_uri": "https://localhost:8080/"
    },
    "id": "no7tvMigkxSd",
    "outputId": "3944b9e6-0697-4f81-c5d7-afd30b5085fe"
   },
   "outputs": [
    {
     "data": {
      "text/plain": [
       "(0, 0, 15828320256)"
      ]
     },
     "execution_count": 9,
     "metadata": {},
     "output_type": "execute_result"
    }
   ],
   "source": [
    "# memory allocated, reserved memory, total memory\n",
    "torch.cuda.memory_allocated(), torch.cuda.memory_reserved(0), torch.cuda.get_device_properties(0).total_memory"
   ]
  },
  {
   "cell_type": "code",
   "execution_count": 10,
   "id": "be_CcKa4lGKq",
   "metadata": {
    "colab": {
     "base_uri": "https://localhost:8080/",
     "height": 35
    },
    "id": "be_CcKa4lGKq",
    "outputId": "ea9fb06b-d637-4048-87dd-5b80f52204b7"
   },
   "outputs": [
    {
     "data": {
      "application/vnd.google.colaboratory.intrinsic+json": {
       "type": "string"
      },
      "text/plain": [
       "'12.6'"
      ]
     },
     "execution_count": 10,
     "metadata": {},
     "output_type": "execute_result"
    }
   ],
   "source": [
    "torch.version.cuda"
   ]
  },
  {
   "cell_type": "code",
   "execution_count": 11,
   "id": "qGyCRsavlwzu",
   "metadata": {
    "colab": {
     "base_uri": "https://localhost:8080/"
    },
    "id": "qGyCRsavlwzu",
    "outputId": "eabd0126-ba14-47da-cd26-b3cf489f1382"
   },
   "outputs": [
    {
     "data": {
      "text/plain": [
       "91002"
      ]
     },
     "execution_count": 11,
     "metadata": {},
     "output_type": "execute_result"
    }
   ],
   "source": [
    "torch.backends.cudnn.version()"
   ]
  },
  {
   "cell_type": "code",
   "execution_count": 13,
   "id": "0EkIFdSImCQF",
   "metadata": {
    "id": "0EkIFdSImCQF"
   },
   "outputs": [],
   "source": [
    "device = \"cuda\""
   ]
  },
  {
   "cell_type": "code",
   "execution_count": 14,
   "id": "L64jshyal3fk",
   "metadata": {
    "colab": {
     "base_uri": "https://localhost:8080/"
    },
    "id": "L64jshyal3fk",
    "outputId": "8c0fbfbb-0c07-4800-d34b-81d6f71c7722"
   },
   "outputs": [
    {
     "data": {
      "text/plain": [
       "(tensor([1, 2, 3]), device(type='cpu'))"
      ]
     },
     "execution_count": 14,
     "metadata": {},
     "output_type": "execute_result"
    }
   ],
   "source": [
    "x = torch.tensor([1,2,3])\n",
    "x, x.device"
   ]
  },
  {
   "cell_type": "code",
   "execution_count": 16,
   "id": "gnIyGbKbmAOS",
   "metadata": {
    "colab": {
     "base_uri": "https://localhost:8080/"
    },
    "id": "gnIyGbKbmAOS",
    "outputId": "535d2b24-09c9-469b-8d6c-804ccdf19f70"
   },
   "outputs": [
    {
     "data": {
      "text/plain": [
       "(tensor([1, 2, 3], device='cuda:0'), device(type='cuda', index=0))"
      ]
     },
     "execution_count": 16,
     "metadata": {},
     "output_type": "execute_result"
    }
   ],
   "source": [
    "y = x.to(device)\n",
    "y, y.device"
   ]
  },
  {
   "cell_type": "code",
   "execution_count": 17,
   "id": "orJv07GWmMpG",
   "metadata": {
    "colab": {
     "base_uri": "https://localhost:8080/"
    },
    "id": "orJv07GWmMpG",
    "outputId": "422bfe47-aea0-4b93-b213-121f5c1f73d7"
   },
   "outputs": [
    {
     "data": {
      "text/plain": [
       "array([1, 2, 3])"
      ]
     },
     "execution_count": 17,
     "metadata": {},
     "output_type": "execute_result"
    }
   ],
   "source": [
    "z = y.cpu().numpy()\n",
    "z"
   ]
  },
  {
   "cell_type": "code",
   "execution_count": null,
   "id": "emN4tqh_mlaG",
   "metadata": {
    "id": "emN4tqh_mlaG"
   },
   "outputs": [],
   "source": [
    "y = y.to(\"cpu\")"
   ]
  },
  {
   "cell_type": "markdown",
   "id": "zrspRei4m7HD",
   "metadata": {
    "id": "zrspRei4m7HD",
    "jp-MarkdownHeadingCollapsed": true
   },
   "source": [
    "# L1.10 - Common PyTorch Errors"
   ]
  },
  {
   "cell_type": "code",
   "execution_count": 1,
   "id": "P-vEi06vns5w",
   "metadata": {
    "id": "P-vEi06vns5w"
   },
   "outputs": [],
   "source": [
    "# Matrix wrong size\n",
    "# torch.mm use instead of torch.matmul"
   ]
  },
  {
   "cell_type": "code",
   "execution_count": 2,
   "id": "SvuBRbaLwIvN",
   "metadata": {
    "id": "SvuBRbaLwIvN"
   },
   "outputs": [],
   "source": [
    "# Incompatible Tensor Datatypes\n",
    "# eg\n",
    "# t1 = dtype = torch.float16\n",
    "# t2 => dtype = torch.float32"
   ]
  },
  {
   "cell_type": "code",
   "execution_count": 6,
   "id": "oe0wtRQ9xvnX",
   "metadata": {
    "colab": {
     "base_uri": "https://localhost:8080/"
    },
    "id": "oe0wtRQ9xvnX",
    "outputId": "1a5c4a7f-17a0-41dd-9216-b708f104bc9f"
   },
   "outputs": [
    {
     "data": {
      "text/plain": [
       "tensor(285., device='cuda:0')"
      ]
     },
     "execution_count": 6,
     "metadata": {},
     "output_type": "execute_result"
    }
   ],
   "source": [
    "# Different devices\n",
    "import torch\n",
    "a = torch.arange(1.0,10.0, device='cpu')\n",
    "b = torch.arange(1.0,10.0, device='cuda')\n",
    "\n",
    "a.to('cuda')@b"
   ]
  },
  {
   "cell_type": "markdown",
   "id": "lfoSqvewyTts",
   "metadata": {
    "id": "lfoSqvewyTts",
    "jp-MarkdownHeadingCollapsed": true
   },
   "source": [
    "# L1.11 - Linear Regression: Data Creation and Loading"
   ]
  },
  {
   "cell_type": "code",
   "execution_count": 2,
   "id": "wCLe7y6Ax8nf",
   "metadata": {
    "id": "wCLe7y6Ax8nf"
   },
   "outputs": [],
   "source": [
    "import torch\n",
    "\n",
    "from torch import nn\n",
    "\n",
    "import matplotlib.pyplot as plt"
   ]
  },
  {
   "cell_type": "code",
   "execution_count": 4,
   "id": "83cb758c-28d7-4d4d-84e1-e82ce7c638f4",
   "metadata": {},
   "outputs": [
    {
     "data": {
      "text/plain": [
       "(torch.Size([50, 1]), torch.Size([50, 1]))"
      ]
     },
     "execution_count": 4,
     "metadata": {},
     "output_type": "execute_result"
    }
   ],
   "source": [
    "# Generate Data\n",
    "# define parameters\n",
    "weight = 0.7\n",
    "bias = 0.3\n",
    "\n",
    "# Generate data\n",
    "start, end, step = 0, 1, 0.02\n",
    "\n",
    "x = torch.arange(start, end, step).unsqueeze(dim=1)\n",
    "\n",
    "y = weight*x + bias\n",
    "\n",
    "x.shape, y.shape"
   ]
  },
  {
   "cell_type": "code",
   "execution_count": 5,
   "id": "94561edc-180c-42ac-ac04-8691241bcb8e",
   "metadata": {},
   "outputs": [
    {
     "data": {
      "text/plain": [
       "(40, 40, 10, 10)"
      ]
     },
     "execution_count": 5,
     "metadata": {},
     "output_type": "execute_result"
    }
   ],
   "source": [
    "train_split = int(0.8*len(x))\n",
    "\n",
    "x_train, y_train = x[:train_split], y[:train_split]\n",
    "\n",
    "x_test, y_test = x[train_split:], y[train_split:]\n",
    "\n",
    "len(x_train), len(y_train), len(x_test), len(y_test)"
   ]
  },
  {
   "cell_type": "code",
   "execution_count": 8,
   "id": "40ec8042-cda4-4864-aa3d-5dcc5dd67d0a",
   "metadata": {},
   "outputs": [
    {
     "data": {
      "text/plain": [
       "(2, 5)"
      ]
     },
     "execution_count": 8,
     "metadata": {},
     "output_type": "execute_result"
    }
   ],
   "source": [
    "# import utilities\n",
    "from torch.utils.data import TensorDataset, DataLoader\n",
    "\n",
    "train_dataset = TensorDataset(x_train, y_train)\n",
    "\n",
    "test_dataset = TensorDataset(x_test, y_test)\n",
    "\n",
    "BATCH_SIZE = 8 \n",
    "NUM_WORKERS = 0 # number of parallel subprocesses trying to work with the data\n",
    "\n",
    "train_dataloader = DataLoader(dataset=train_dataset, \n",
    "                              batch_size=BATCH_SIZE,\n",
    "                              shuffle=True,\n",
    "                              num_workers=NUM_WORKERS)\n",
    "test_dataloader = DataLoader(dataset=test_dataset, \n",
    "                              batch_size=BATCH_SIZE,\n",
    "                              shuffle=True,\n",
    "                              num_workers=NUM_WORKERS)\n",
    "# dataloader properties\n",
    "len(test_dataloader), len(train_dataloader)"
   ]
  },
  {
   "cell_type": "code",
   "execution_count": 11,
   "id": "d7784c57-cf14-4ea2-93b6-fea1911babe7",
   "metadata": {},
   "outputs": [
    {
     "name": "stdout",
     "output_type": "stream",
     "text": [
      "torch.Size([8, 1]) torch.Size([8, 1])\n",
      "tensor([0.5600, 0.3000, 0.0000, 0.1200, 0.3600, 0.1400, 0.7000, 0.4400]) tensor([0.6920, 0.5100, 0.3000, 0.3840, 0.5520, 0.3980, 0.7900, 0.6080])\n",
      "torch.Size([8, 1]) torch.Size([8, 1])\n",
      "tensor([0.5000, 0.7800, 0.2200, 0.6000, 0.6400, 0.0800, 0.1600, 0.0400]) tensor([0.6500, 0.8460, 0.4540, 0.7200, 0.7480, 0.3560, 0.4120, 0.3280])\n",
      "torch.Size([8, 1]) torch.Size([8, 1])\n",
      "tensor([0.4200, 0.7600, 0.5800, 0.0200, 0.3200, 0.2600, 0.7200, 0.4000]) tensor([0.5940, 0.8320, 0.7060, 0.3140, 0.5240, 0.4820, 0.8040, 0.5800])\n",
      "torch.Size([8, 1]) torch.Size([8, 1])\n",
      "tensor([0.6200, 0.2000, 0.3400, 0.6800, 0.5400, 0.2800, 0.4800, 0.1800]) tensor([0.7340, 0.4400, 0.5380, 0.7760, 0.6780, 0.4960, 0.6360, 0.4260])\n",
      "torch.Size([8, 1]) torch.Size([8, 1])\n",
      "tensor([0.1000, 0.0600, 0.4600, 0.5200, 0.7400, 0.2400, 0.3800, 0.6600]) tensor([0.3700, 0.3420, 0.6220, 0.6640, 0.8180, 0.4680, 0.5660, 0.7620])\n"
     ]
    }
   ],
   "source": [
    "# Batch iteration\n",
    "for batch_x, batch_y in train_dataloader:\n",
    "    print(batch_x.shape, batch_y.shape)\n",
    "    print(batch_x.flatten(), batch_y.flatten())"
   ]
  },
  {
   "cell_type": "markdown",
   "id": "47d52e12-feb2-46ba-8912-39cdaf249125",
   "metadata": {},
   "source": [
    "What happened above, summary:\n",
    "* TensorDataset wraps both feature and target outcomes into one tensor, basically instead of accessing two sets of tensors it becomes one for different steps\n",
    "* DataLoader basically iterates over the data to create batches of data"
   ]
  },
  {
   "cell_type": "markdown",
   "id": "0ba4ba89-ed19-488b-b6a4-d960efadb870",
   "metadata": {
    "jp-MarkdownHeadingCollapsed": true
   },
   "source": [
    "# L1.12 - Linear regression - Visualization"
   ]
  },
  {
   "cell_type": "code",
   "execution_count": 35,
   "id": "889389e8-e0cf-4fa3-9d2e-1cc263b63986",
   "metadata": {},
   "outputs": [],
   "source": [
    "def plot_predictions(train_data=x_train,\n",
    "                     train_labels=y_train,\n",
    "                     test_data=x_test,\n",
    "                     test_labels=y_test,\n",
    "                     predictions=None):\n",
    "    plt.figure(figsize=(10,7))\n",
    "    \n",
    "    plt.scatter(train_data, train_labels, c=\"green\", s=25, alpha=0.5, label=\"Training Data\", marker='o')\n",
    "\n",
    "    plt.scatter(test_data, test_labels, c=\"blue\", s=15, alpha=0.7, label=\"Testing Data\", marker='s')\n",
    "\n",
    "    if predictions is not None:\n",
    "        plt.scatter(test_data, predictions, c=\"red\",s=25, alpha=0.8, marker='^')\n",
    "\n",
    "    plt.xlabel(\"Input features\")\n",
    "\n",
    "    plt.ylabel(\"Target Values\")\n",
    "\n",
    "    plt.title(\"Linear Regression\")\n",
    "\n",
    "    plt.legend(fontsize=11)\n",
    "\n",
    "    plt.grid(True, alpha=0.3)\n",
    "\n",
    "    plt.tight_layout()\n",
    "\n",
    "    plt.show()"
   ]
  },
  {
   "cell_type": "code",
   "execution_count": 36,
   "id": "ac0700a1-f420-4127-b8e6-0b404a3df2ba",
   "metadata": {},
   "outputs": [
    {
     "data": {
      "image/png": "[encoded data removed]",
      "text/plain": [
       "<Figure size 1000x700 with 1 Axes>"
      ]
     },
     "metadata": {},
     "output_type": "display_data"
    }
   ],
   "source": [
    "plot_predictions()"
   ]
  },
  {
   "cell_type": "markdown",
   "id": "1a717031-1f06-482e-bf64-f23ac234f607",
   "metadata": {
    "jp-MarkdownHeadingCollapsed": true
   },
   "source": [
    "# L1.13 - Linear Regression - Model Definition"
   ]
  },
  {
   "cell_type": "code",
   "execution_count": 37,
   "id": "2d4dcfe1-66a8-423c-a25e-f4f01cde21f6",
   "metadata": {},
   "outputs": [],
   "source": [
    "class LinearRegressionModel(nn.Module):\n",
    "    '''\n",
    "    Linear Regression Model\n",
    "    y = w * x + b\n",
    "    - input: one feature per sample\n",
    "    - output: one value\n",
    "    - paramters: weight and bias\n",
    "    '''\n",
    "    def __init__(self):\n",
    "        super().__init__()\n",
    "        # the below defines weights as a learnable parameters from the requires grad true\n",
    "        # It is initialized as a neural network parameter of float type\n",
    "        self.weights = nn.Parameter(torch.randn(1, dtype=torch.float), requires_grad=True)\n",
    "        self.bias = nn.Parameter(torch.randn(1, dtype=torch.float), requires_grad=True)\n",
    "    # Returns prediction basically\n",
    "    def forward(self, x:torch.Tensor)->torch.Tensor:\n",
    "        return self.weights * x + self.bias"
   ]
  },
  {
   "cell_type": "code",
   "execution_count": 38,
   "id": "62222ac2-d91b-4685-8436-38f1be73c070",
   "metadata": {},
   "outputs": [
    {
     "data": {
      "text/plain": [
       "tensor([[0.6993],\n",
       "        [0.9337],\n",
       "        [1.1682]], grad_fn=<AddBackward0>)"
      ]
     },
     "execution_count": 38,
     "metadata": {},
     "output_type": "execute_result"
    }
   ],
   "source": [
    "model = LinearRegressionModel()\n",
    "x = torch.tensor([[2.0],[3.0],[4.]])\n",
    "y_pred = model(x)\n",
    "y_pred"
   ]
  },
  {
   "cell_type": "markdown",
   "id": "9fe7af56-c8d2-4c8b-915c-1b2eee12d468",
   "metadata": {
    "jp-MarkdownHeadingCollapsed": true
   },
   "source": [
    "# L1.14 - Linear Regression - Custom Loss Function"
   ]
  },
  {
   "cell_type": "code",
   "execution_count": 39,
   "id": "634900cc-e637-4121-a812-30b54005e4d9",
   "metadata": {},
   "outputs": [],
   "source": [
    "class MeanAbsoluteError(nn.Module):\n",
    "    '''\n",
    "    MAE = mean(abs(y_pred-y_true))\n",
    "    '''\n",
    "    def __init__(self):\n",
    "        super().__init__() # what is super here?\n",
    "\n",
    "    def forward(self, predictions:torch.Tensor, targets:torch.Tensor)->torch.Tensor:\n",
    "        '''\n",
    "        Computes mean absolute error between predictions and targets\n",
    "        Parameters:\n",
    "        * predctions: torch.Tensor, shape=[batch_size, output_dim]\n",
    "        * targets: torch.Tensor, shape same as above\n",
    "        '''\n",
    "        absolute_errors = torch.abs(predictions - targets)\n",
    "\n",
    "        return torch.mean(absolute_errors)\n",
    "\n",
    "class HuberLoss(nn.Module):\n",
    "    '''\n",
    "    Huber loss:\n",
    "    * quadratic loss for small errors\n",
    "    * linear for large\n",
    "\n",
    "    L_delta(a) = 0.5(a^2) if abs(a) <= delta\n",
    "                 delta*(abs(a)-0.5*delta)\n",
    "    '''\n",
    "    def __init__(self, delta:float=1.0):\n",
    "        super().__init__()\n",
    "        self.delta = delta\n",
    "    def forward(self, predictions:torch.Tensor, tragets:torch.Tensor)->torch.Tensor:\n",
    "        '''\n",
    "        parameters:\n",
    "            predictions -> What the model says\n",
    "            targets - > what the reality says\n",
    "        returns:\n",
    "            Huber loss -> torch tensor\n",
    "        '''\n",
    "        #Computer residuals\n",
    "        residuals = predictions-targets\n",
    "        abs_residuals = torch.abs(residuals)\n",
    "\n",
    "        # compute loss\n",
    "        quadratic_mask = abs_residuals <= self.delta\n",
    "        linear_mask = abs_residuals > self.delta\n",
    "\n",
    "        quadratic_loss = 0.5*(residuals**2)\n",
    "        linear_loss = self.delta * abs_residuals - 0.5*(self.delta**2)\n",
    "        \n",
    "        loss = quadratic_mask*quadratic_loss + linear_mask*linear_loss\n",
    "\n",
    "        # can also simplify all the above lines into a single line below\n",
    "        # loss = torch.where(abs_residuals<=self.delta, 0.5*(residuals**2), self.delta* abs_residuals = 0.5*(self.delta**2))\n",
    "\n",
    "        return torch.mean(loss)"
   ]
  },
  {
   "cell_type": "markdown",
   "id": "c7466fc1-a41a-4843-99dd-2912eb567262",
   "metadata": {},
   "source": [
    "Losses here:\n",
    "* quadratic accelerates massively when outliers exist, difficult to finetune when outliers make up the majority\n",
    "* Linear cannot model the close ones well enough\n",
    "* Huber loss is a good compromise, can use to model the close errors well, but handles outliers well in that they don't accelerate and dominate the loss function"
   ]
  },
  {
   "cell_type": "markdown",
   "id": "b6ccb912-8b60-473c-985b-784b2414e683",
   "metadata": {
    "jp-MarkdownHeadingCollapsed": true
   },
   "source": [
    "# L1.15 - Linear Regression - Training Loop"
   ]
  },
  {
   "cell_type": "code",
   "execution_count": 40,
   "id": "7f0ce916-dcd1-4f1f-9505-8ff51d95e9c7",
   "metadata": {},
   "outputs": [
    {
     "data": {
      "text/plain": [
       "[Parameter containing:\n",
       " tensor([0.3367], requires_grad=True),\n",
       " Parameter containing:\n",
       " tensor([0.1288], requires_grad=True)]"
      ]
     },
     "execution_count": 40,
     "metadata": {},
     "output_type": "execute_result"
    }
   ],
   "source": [
    "torch.manual_seed(42)\n",
    "\n",
    "model_0 = LinearRegressionModel()\n",
    "\n",
    "# probably another nn torch function\n",
    "list(model_0.parameters())"
   ]
  },
  {
   "cell_type": "code",
   "execution_count": 41,
   "id": "9871610c-2115-4eb5-a681-b258bed0b576",
   "metadata": {},
   "outputs": [
    {
     "data": {
      "text/plain": [
       "OrderedDict([('weights', tensor([0.3367])), ('bias', tensor([0.1288]))])"
      ]
     },
     "execution_count": 41,
     "metadata": {},
     "output_type": "execute_result"
    }
   ],
   "source": [
    "# Guess this is a torch nn function\n",
    "model_0.state_dict()"
   ]
  },
  {
   "cell_type": "code",
   "execution_count": 42,
   "id": "5802bee6-2cab-4b1f-8459-c124f4340c6a",
   "metadata": {},
   "outputs": [],
   "source": [
    "# Make predictions with model\n",
    "with torch.inference_mode():\n",
    "    y_preds = model_0(x_test)"
   ]
  },
  {
   "cell_type": "code",
   "execution_count": 43,
   "id": "8b938891-b066-44ad-bf62-7e09b5b6b014",
   "metadata": {},
   "outputs": [
    {
     "data": {
      "image/png": "[encoded data removed]",
      "text/plain": [
       "<Figure size 1000x700 with 1 Axes>"
      ]
     },
     "metadata": {},
     "output_type": "display_data"
    }
   ],
   "source": [
    "plot_predictions(predictions=y_preds)"
   ]
  },
  {
   "cell_type": "code",
   "execution_count": 45,
   "id": "4c52c1d2-f9d1-49fb-a072-79e0df8a605f",
   "metadata": {},
   "outputs": [
    {
     "name": "stdout",
     "output_type": "stream",
     "text": [
      "SGD (\n",
      "Parameter Group 0\n",
      "    dampening: 0\n",
      "    differentiable: False\n",
      "    foreach: None\n",
      "    fused: None\n",
      "    lr: 0.001\n",
      "    maximize: False\n",
      "    momentum: 0\n",
      "    nesterov: False\n",
      "    weight_decay: 0\n",
      ")\n",
      "0.001\n",
      "2\n"
     ]
    }
   ],
   "source": [
    "# configure the loss function\n",
    "loss_fn = nn.L1Loss()\n",
    "\n",
    "# configure optimization algorithm\n",
    "optimizer = torch.optim.SGD(\n",
    "    params = model_0.parameters(),\n",
    "    lr=0.001\n",
    ")\n",
    "\n",
    "print(optimizer)\n",
    "print(optimizer.param_groups[0]['lr'])\n",
    "\n",
    "print(len(list(model_0.parameters())))"
   ]
  },
  {
   "cell_type": "code",
   "execution_count": null,
   "id": "10eb477b-9ba6-4791-a5f3-0c3b8b254009",
   "metadata": {},
   "outputs": [],
   "source": [
    "# number of time - number of times model will pass over the training data\n",
    "epochs = 100\n",
    "for epoch in range(epochs):\n",
    "    model_0.train() #puts model in training mode\n",
    "    y_pred=model_0(x_train)\n",
    "    # print(y_pred)\n",
    "    loss = loss_fn(y_pred, y_train) # Calculate loss function\n",
    "    optimizer.zero_grad() # zero out the gradients\n",
    "    loss.backward() # backpropagation\n",
    "    optimizer.step # update parameters"
   ]
  },
  {
   "cell_type": "code",
   "execution_count": null,
   "id": "8381ef7d-389c-4a67-9833-12ec0d017765",
   "metadata": {},
   "outputs": [],
   "source": []
  },
  {
   "cell_type": "code",
   "execution_count": 48,
   "id": "9dbb3fa0-b82c-42d0-8cc5-660bf43538df",
   "metadata": {},
   "outputs": [
    {
     "name": "stdout",
     "output_type": "stream",
     "text": [
      "Training progress\n",
      "============================================================\n",
      "0 0.3048201620578766 0.24053259193897247\n",
      "20 0.18960833549499512 0.17958566546440125\n",
      "40 0.08471936881542205 0.10340048372745514\n",
      "60 0.05257699191570282 0.06814287602901459\n",
      "80 0.04517630338668823 0.05390140414237976\n",
      "100 0.041430114209651946 0.04578329622745514\n",
      "120 0.03803277090191841 0.03892137110233307\n",
      "140 0.034481391310691833 0.04008583724498749\n",
      "160 0.031077652424573898 0.037831321358680725\n",
      "180 0.02758851572871208 0.03352351486682892\n",
      "200 0.02422744259238243 0.03297652304172516\n",
      "220 0.020731320977210997 0.025080695748329163\n",
      "240 0.017334143817424773 0.019238054752349854\n",
      "260 0.013877510279417037 0.015614673495292664\n",
      "280 0.010505372285842895 0.012761190533638\n",
      "300 0.007039742916822434 0.007177039980888367\n",
      "320 0.0036124855279922484 0.004573732614517212\n",
      "340 0.0005148850381374359 0.0005668550729751587\n",
      "============================================================\n",
      "Training Complete\n",
      "0.0005713023245334625 0.00021091103553771973\n"
     ]
    }
   ],
   "source": [
    "torch.manual_seed(42)\n",
    "\n",
    "EPOCHS = 350\n",
    "\n",
    "PRINT_INTERVAL = 20\n",
    "\n",
    "# Initialize testing variable for loss curves\n",
    "train_loss_values = []\n",
    "test_loss_values = []\n",
    "epoch_count = []\n",
    "\n",
    "print(\"Training progress\")\n",
    "print(\"=\" * 60)\n",
    "\n",
    "# Main training Loop\n",
    "for epoch in range(EPOCHS):\n",
    "    model_0.train() #puts model in training mode\n",
    "\n",
    "    epoch_train_loss = 0.0\n",
    "    num_train_batches = 0\n",
    "\n",
    "    for batch_x, batch_y in train_dataloader:\n",
    "        y_pred=model_0(batch_x)\n",
    "        # print(y_pred)\n",
    "        batch_loss = loss_fn(y_pred, batch_y) # Calculate loss function\n",
    "        \n",
    "        optimizer.zero_grad() # zero out the gradients\n",
    "        \n",
    "        batch_loss.backward() # backpropagation\n",
    "        \n",
    "        optimizer.step() # update parameters\n",
    "\n",
    "        epoch_train_loss += batch_loss.item() \n",
    "\n",
    "        num_train_batches += 1\n",
    "    avg_train_loss = epoch_train_loss/num_train_batches\n",
    "\n",
    "    # testing\n",
    "    model_0.eval() # put model in eval mode\n",
    "    \n",
    "    epoch_test_loss =0.0\n",
    "    num_test_batches=0\n",
    "    \n",
    "    with torch.inference_mode():\n",
    "        for batch_x, batch_y in test_dataloader:\n",
    "            test_pred=model_0(batch_x)\n",
    "            batch_test_loss=loss_fn(test_pred, batch_y)\n",
    "\n",
    "            epoch_test_loss = batch_test_loss.item()\n",
    "\n",
    "            num_test_batches += 1\n",
    "    avg_test_loss = epoch_test_loss/num_test_batches\n",
    "    if epoch % PRINT_INTERVAL == 0:\n",
    "        epoch_count.append(epoch)\n",
    "        train_loss_values.append(avg_train_loss)\n",
    "        test_loss_values.append(avg_test_loss)\n",
    "        print(epoch, avg_train_loss, avg_test_loss)\n",
    "\n",
    "print(\"=\"*60)\n",
    "print(\"Training Complete\")\n",
    "print(avg_train_loss, avg_test_loss)"
   ]
  },
  {
   "cell_type": "code",
   "execution_count": 50,
   "id": "8f77f0cc-91cf-4c9d-b00f-1525aaed6053",
   "metadata": {},
   "outputs": [
    {
     "data": {
      "text/plain": [
       "Text(0, 0.5, 'Loss values')"
      ]
     },
     "execution_count": 50,
     "metadata": {},
     "output_type": "execute_result"
    },
    {
     "data": {
      "image/png": "[encoded data removed]",
      "text/plain": [
       "<Figure size 640x480 with 1 Axes>"
      ]
     },
     "metadata": {},
     "output_type": "display_data"
    }
   ],
   "source": [
    "plt.plot(epoch_count, train_loss_values, label=\"Train Loss\")\n",
    "plt.plot(epoch_count, test_loss_values, label=\"Test Loss\")\n",
    "plt.title(\"Training and test loss curves\")\n",
    "\n",
    "plt.ylabel(\"Loss values\")"
   ]
  },
  {
   "cell_type": "code",
   "execution_count": 52,
   "id": "788c55ac-fec1-4250-8db1-14f890742f5c",
   "metadata": {},
   "outputs": [
    {
     "data": {
      "text/plain": [
       "OrderedDict([('weights', tensor([0.6996])), ('bias', tensor([0.3008]))])"
      ]
     },
     "execution_count": 52,
     "metadata": {},
     "output_type": "execute_result"
    }
   ],
   "source": [
    "learned_params = model_0.state_dict()\n",
    "\n",
    "learned_params"
   ]
  },
  {
   "cell_type": "markdown",
   "id": "6a282d2f-4af8-4eb1-8b4e-a4ccef5a6d10",
   "metadata": {
    "jp-MarkdownHeadingCollapsed": true
   },
   "source": [
    "# L1.16 - Model Serialization in PyTorch"
   ]
  },
  {
   "cell_type": "markdown",
   "id": "91f24019-4528-4c91-ba50-3e34ea0bc8a1",
   "metadata": {},
   "source": [
    "basically save the parameters from your model into a file such that they are loadable again"
   ]
  },
  {
   "cell_type": "code",
   "execution_count": 53,
   "id": "230f3d6a-1b6b-4ced-a35d-02344737a16f",
   "metadata": {},
   "outputs": [
    {
     "name": "stdout",
     "output_type": "stream",
     "text": [
      "model directory created: C:\\Users\\siddh\\OneDrive\\Documents\\Obsidian notes\\IITM Notes\\IITM_DL_GenAI_Notes\\models\n"
     ]
    }
   ],
   "source": [
    "from pathlib import Path\n",
    "MODEL_PATH = Path(\"models\") # path object pointing to ./path\n",
    "MODEL_PATH.mkdir(parents=True, exist_ok=True)\n",
    "print(f\"model directory created: {MODEL_PATH.absolute()}\")"
   ]
  },
  {
   "cell_type": "code",
   "execution_count": 54,
   "id": "2fac763b-ace0-478f-bae8-8487ab6ad474",
   "metadata": {},
   "outputs": [
    {
     "name": "stdout",
     "output_type": "stream",
     "text": [
      "models\\01_pytorch_workflow_model_0.pth\n"
     ]
    }
   ],
   "source": [
    "MODEL_NAME = \"01_pytorch_workflow_model_0.pth\"\n",
    "MODEL_SAVE_PATH = MODEL_PATH / MODEL_NAME\n",
    "print(MODEL_SAVE_PATH)"
   ]
  },
  {
   "cell_type": "code",
   "execution_count": 57,
   "id": "73fb042f-5667-45e0-b596-464ce68d80da",
   "metadata": {},
   "outputs": [
    {
     "name": "stdout",
     "output_type": "stream",
     "text": [
      "2117\n",
      "2\n"
     ]
    }
   ],
   "source": [
    "torch.save(obj=model_0.state_dict(), f=MODEL_SAVE_PATH)\n",
    "if MODEL_SAVE_PATH.exists():\n",
    "    file_size = MODEL_SAVE_PATH.stat().st_size\n",
    "    print(file_size)\n",
    "    print(len(model_0.state_dict()))\n",
    "else:\n",
    "    print(\"MODEL SAVE FAILED\")"
   ]
  },
  {
   "cell_type": "code",
   "execution_count": 58,
   "id": "01cca279-7e1b-43aa-8232-313787ebd6c6",
   "metadata": {},
   "outputs": [
    {
     "data": {
      "text/plain": [
       "OrderedDict([('weights', tensor([0.6996])), ('bias', tensor([0.3008]))])"
      ]
     },
     "execution_count": 58,
     "metadata": {},
     "output_type": "execute_result"
    }
   ],
   "source": [
    "# Load the model back\n",
    "saved_state = torch.load(MODEL_SAVE_PATH, weights_only=True)\n",
    "\n",
    "saved_state"
   ]
  },
  {
   "cell_type": "code",
   "execution_count": 62,
   "id": "d0a125dd-dc9c-43d7-ad5e-4db484bb7214",
   "metadata": {},
   "outputs": [
    {
     "name": "stdout",
     "output_type": "stream",
     "text": [
      "weights 0.6995749473571777\n",
      "bias 0.3008086085319519\n"
     ]
    }
   ],
   "source": [
    "for name, t in saved_state.items():\n",
    "    if t.numel()==1:\n",
    "        print(name, t.item())\n",
    "    else:\n",
    "        print(f\"{name}, shape = {tuple(t.shape)}, dtype={t.dtype}\")"
   ]
  },
  {
   "cell_type": "markdown",
   "id": "aa0bcbd4-98cf-4f13-932e-3ce148fdab3f",
   "metadata": {
    "jp-MarkdownHeadingCollapsed": true
   },
   "source": [
    "# L1.17 - Neuron: Biology to Mathematics"
   ]
  },
  {
   "cell_type": "markdown",
   "id": "99dd0e6f-cf7a-409b-9b28-fd1f1a81a40a",
   "metadata": {},
   "source": [
    "## 0. Simple model of a neuron\n",
    "* Receives signal via dendrites\n",
    "* integrates signals in the soma/cell body\n",
    "* if threshold is met, it fires\n",
    "* semds output signal via axon\n",
    "\n",
    "Difference: \n",
    "* Brain is vastly more complex\n",
    "* Biological learning is not backpropagation\n",
    "\n",
    "## 1. Muccullocks pitts neuron\n",
    "The first mathematical model of a neuron, it operates on a simple principle: if enough inputs are active, the neuron fires\n",
    "MP neuron was a fixed logic gate, could not learn\n",
    "* no feature importabce\n",
    "* no automatic learning\n",
    "* Restricted to binary IO\n",
    "\n",
    "## 2. Perceptron\n",
    "* introduces learnable weights on each input\n",
    "* Innovation 1: each input multiplied by a weight, which represents feature importance, therefore priority can happen\n",
    "* Innovation 2: Learning rule predicts and compares to real y, adjusts\n",
    "\n",
    "### Strengths\n",
    "* Learns, weights are adjusted according to data\n",
    "* feature importance\n",
    "* convergence guarantee if linearly separable\n",
    "\n",
    "### Limitations\n",
    "* Linear separability is needed between classes\n",
    "\n",
    "## 3. Modern Neuron\n",
    "Step 1: Linear combination (z = w.x + b)\n",
    "Step 2: Non linear differentiable activation, through a =g(z)\n",
    "\n",
    "The above function gives us a gradient, tells us direction and magnitude to adjust weights to fix errors. Core requirement for backpropagation"
   ]
  },
  {
   "cell_type": "markdown",
   "id": "4ce0191f-f494-4e2f-b0d2-f29ea8ab4923",
   "metadata": {
    "jp-MarkdownHeadingCollapsed": true
   },
   "source": [
    "# 1.18 - fundamental Tricks in Deep Learning"
   ]
  },
  {
   "cell_type": "markdown",
   "id": "4e63bfe2-d3f5-4ccd-8d12-96c232c2a899",
   "metadata": {},
   "source": [
    "Core problem: computers don't see, they calculate\n",
    "* human perception is qualitative\n",
    "* computer perception is quantitative\n",
    "\n",
    "Goal: convert all information into numbers i.e. vectors\n",
    "\n",
    "## Encoding categories\n",
    "Challenge: How do we convert an abstract category like \"pedestrian\" or \"Stop Sign\" from cars output vector into numbers\n",
    "\n",
    "1. One hot encoding:\n",
    "Represent all classes in a binary vector, simple but inefficient\n",
    "\n",
    "3. Embedding Layers\n",
    "Learns a dense meaningful vector for each class\n",
    "efficient and captures semantic relationships\n",
    "\n",
    "## Function Trick\n",
    "* we frame problems as data (inputs and outputs)\n",
    "* we frame solutions as a function that maps inputs to outputs\n",
    "\n",
    "Each function has two parts\n",
    "* form - architecture\n",
    "    * learning a structured function makes more sense than learning something arbitrary\n",
    "* parameters (w)\n",
    "    * dials that tune the functions\n",
    "    * learned from data\n",
    "\n",
    "## Parameterixation trick\n",
    "**core idea**: we define model as a function with a set of learnable parameters (weights and biases) denoted by theta, goal is to find the optimal values of theta\n",
    "\n",
    "### Model as a function\n",
    "y = f(x, theta)\n",
    "\n",
    "This parameterization turns the learning into an optimization problems\n",
    "\n",
    "## Loss\n",
    "Step -1: Measuring error\n",
    "* A loss function\n",
    "  L = L(y, f(x, theta))\n",
    "\n",
    "High loss -> bad model\n",
    "\n",
    "Step - 2: goal, find the parameters with the lowest possible loss\n",
    "\n"
   ]
  },
  {
   "cell_type": "markdown",
   "id": "3b27882d-a780-43a1-8f26-bfa029953436",
   "metadata": {
    "jp-MarkdownHeadingCollapsed": true
   },
   "source": [
    "# L1.19 - Feedforward Network Architecture"
   ]
  },
  {
   "cell_type": "markdown",
   "id": "e61d887c-1282-48d6-b86f-6edd7afc86b0",
   "metadata": {},
   "source": [
    "1. The input layer: Receives the data and passes the values along\n",
    "2. Hidden Layer: Computational engine and learns abstract features\n",
    "3. Output Layer: prcudes the final result, a prediction\n",
    "\n",
    "## Characteristics/\n",
    "* Feedforwars flow: information moves one side only\n",
    "* fully connedted: every neuron connectes to every neuron in the next layer\n",
    "\n",
    "## Feedforward model: A neuron's calculation\n",
    "* step - 1: the linear part (y = wx + b)\n",
    "* Step - 2: Nonlinear part (Activation function, a = g(z))\n",
    "\n",
    "**Problem**:\n",
    "Calculating neuron by neuron is inredibly inefficient\n",
    "\n",
    "**solutoin**:\n",
    "compute an entire layer at once by using vectorized operations (i.e. matrix operations)"
   ]
  },
  {
   "attachments": {
    "24b28616-7f83-4b1f-a83b-8e3bca6f2fa3.png": {
     "image/png": "[encoded data removed]"
    }
   },
   "cell_type": "markdown",
   "id": "d8cd6fd4-2509-4c4c-9454-175235c77903",
   "metadata": {},
   "source": [
    "![image.png](attachment:24b28616-7f83-4b1f-a83b-8e3bca6f2fa3.png)"
   ]
  },
  {
   "cell_type": "markdown",
   "id": "0e177fea-11a0-4383-80d8-3f158241db9d",
   "metadata": {
    "jp-MarkdownHeadingCollapsed": true
   },
   "source": [
    "# L1.20 - Example\n",
    "Just watch the video, no notes"
   ]
  },
  {
   "cell_type": "markdown",
   "id": "75917d03-2343-48f8-80f6-3a29fddab5f1",
   "metadata": {
    "jp-MarkdownHeadingCollapsed": true
   },
   "source": [
    "# L1.21 - Activation Functions"
   ]
  },
  {
   "cell_type": "markdown",
   "id": "c4818386-0471-439f-bcf2-aacf0b78f8c8",
   "metadata": {},
   "source": [
    "Without a non linear activation function, a deep network simply collapses into a single linear model, no matter how many layers it has\n",
    "(just infer, no proof here)\n",
    "\n",
    "## sgmoid:\n",
    "1/(1 + e^-z)\n",
    "* squeezes any real number into the range(0,1)\n",
    "* historically propular for it's interpretation as a neuron's firing rate\n",
    "* Useful in output layers for binary classification\n",
    "\n",
    "**Problem**:\n",
    "* Vanishing gradients: fnction is flat at both ends, for either ends of large quantities, learning stops\n",
    "* Not zero centered: Outputs are always positive, slow down learning\n",
    "\n",
    "## tanh:\n",
    "e^z - e^-z/e^z + e^-z\n",
    "* squeezes any real number into the range(-1, 1)\n",
    "* zero centered\n",
    "\n",
    "**Problems**:\n",
    "* Vanishing gradients\n",
    "\n",
    "## ReLU\n",
    "max(0,z)\n",
    "* computationally efficient\n",
    "* no vanishing gradient: gradient is a constant 1\n",
    "* sparsity: can reduce network complexity\n",
    "\n",
    "**Problems**:\n",
    "* if neurons weights are updated such that its pre activation z is always negative, it will always output 0. The gradient is also 0, the neuron effectively dies\n",
    "\n",
    "## Leaky ReLU:\n",
    "max(az, z), where a is a small quantity like 0.01\n",
    "* introduces fix to potentially revive dead neurons\n",
    "\n",
    "## Practically:\n",
    "1. for hidden layers:\n",
    "* start with ReLU, if dead neurons, leaky ReLU, for transformer models, consider GELU\n",
    "2. For output layer\n",
    "* binary classification: sigmoid outputs a probability between 0 and 1\n",
    "* multiclass classification: softmax, return a vector of probability over multiple classes\n",
    "\n",
    "**rule of thumb**: \n",
    "never use sigmoid or tanh in the hidden lyaers due to vanishing gradient problem"
   ]
  },
  {
   "cell_type": "code",
   "execution_count": null,
   "id": "30ca4625-1987-41e8-8fe1-ce7b9a5a2340",
   "metadata": {},
   "outputs": [],
   "source": []
  }
 ],
 "metadata": {
  "accelerator": "GPU",
  "colab": {
   "gpuType": "T4",
   "provenance": []
  },
  "kernelspec": {
   "display_name": "Python 3 (ipykernel)",
   "language": "python",
   "name": "python3"
  },
  "language_info": {
   "codemirror_mode": {
    "name": "ipython",
    "version": 3
   },
   "file_extension": ".py",
   "mimetype": "text/x-python",
   "name": "python",
   "nbconvert_exporter": "python",
   "pygments_lexer": "ipython3",
   "version": "3.13.1"
  }
 },
 "nbformat": 4,
 "nbformat_minor": 5
}
