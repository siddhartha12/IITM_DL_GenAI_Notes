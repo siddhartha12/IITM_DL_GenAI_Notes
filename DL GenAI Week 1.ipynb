{
  "cells": [
    {
      "cell_type": "markdown",
      "source": [
        "# L1.1 - Introduction to ANN"
      ],
      "metadata": {
        "id": "qSQqhXoY9KHJ"
      },
      "id": "qSQqhXoY9KHJ"
    },
    {
      "cell_type": "code",
      "source": [],
      "metadata": {
        "id": "g2yW2dQV9Wak"
      },
      "id": "g2yW2dQV9Wak",
      "execution_count": null,
      "outputs": []
    }
  ],
  "metadata": {
    "colab": {
      "provenance": []
    }
  },
  "nbformat": 4,
  "nbformat_minor": 5
}