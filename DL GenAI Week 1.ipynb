{
  "cells": [
    {
      "cell_type": "markdown",
      "id": "qSQqhXoY9KHJ",
      "metadata": {
        "id": "qSQqhXoY9KHJ"
      },
      "source": [
        "# L1.1 - Introduction to ANN"
      ]
    },
    {
      "cell_type": "markdown",
      "id": "336a0f22-f41a-42f0-96a5-8072d5ad9d41",
      "metadata": {
        "id": "336a0f22-f41a-42f0-96a5-8072d5ad9d41"
      },
      "source": [
        "Machine learning is the field of study that gives computers the abiity to learn without being explicitly programmed. i.e. learn directly from data, no explicitly programed rules\n",
        "## Data and process\n",
        "### Focus: Structured data\n",
        "* Data in Tables (rows and columns)\n",
        "* Predict a target from features\n",
        "\n",
        "### Method: manual feature engineering\n",
        "* Human experts design features\n",
        "* model learns from these engineered features\n",
        "* success depends on feature quaity\n",
        "\n",
        "## Models\n",
        "### Linear models\n",
        "* core idea: assumes linear relationships\n",
        "* eg: linear/logistic regression\n",
        "* traits: fast, interpretable but simple\n",
        "### Tree Based models\n",
        "* core idea: learns if-then-else rules\n",
        "traits: capture non linearity\n",
        "\n",
        "## Limitations\n",
        "### Feature engineering Bottleneck\n",
        "Time consuming, requires domain expertise and is often suboptimal\n",
        "### Inability to handle high dimension data\n",
        "struggles with images, audio, or raw text\n",
        "### Limited representation learning\n",
        "learn shallow patterns, not deep hierarchical features\n",
        "## New paradigm\n",
        "ML needs manual feature extraction, DL learns them automatically\n",
        "\n",
        "## Deep Learning\n",
        "* Models learn directly from raw data\n",
        "* Handles images, text and audio\n",
        "* no manual feature extraction\n",
        "\n",
        "## Factors for Deep learning\n",
        "* Big data\n",
        "* computational power\n",
        "* Better algorithms"
      ]
    },
    {
      "cell_type": "markdown",
      "id": "6599400a-72cf-432b-bd11-9d97a5572cb0",
      "metadata": {
        "id": "6599400a-72cf-432b-bd11-9d97a5572cb0"
      },
      "source": [
        "# L1.2 - Introduction to PyTorch and Tensors"
      ]
    },
    {
      "cell_type": "markdown",
      "id": "b716c8a1-745b-4a0f-b7dd-8fb16e065c19",
      "metadata": {
        "id": "b716c8a1-745b-4a0f-b7dd-8fb16e065c19"
      },
      "source": [
        "## Advantages of PyTorch\n",
        "* dynamic computational graphs allow for flexible model architectures\n",
        "* pythonic interface that integrates seamleslly with the python ecosystem\n",
        "* Extensive debugging capabilities with standard python debugging tools\n",
        "\n",
        "## Performance Optimization\n",
        "* Efficient GPU integration through cuda integration\n",
        "* optimized tensors operatins for numerical computations\n",
        "* Support for distributed training across multiple devices\n",
        "\n",
        "## Theoretical foundation\n",
        "tensors are used to represent\n",
        "\n",
        "## Notation\n",
        "* Scalar: lowercase italic\n",
        "* vector: lowercase bold letters\n",
        "* matrices: Uppercase bold letters\n",
        "* Tensors: Uppercase bold letters with rank notation"
      ]
    },
    {
      "cell_type": "markdown",
      "id": "ff2c1435-24e8-447e-9b14-d957202cba43",
      "metadata": {
        "id": "ff2c1435-24e8-447e-9b14-d957202cba43"
      },
      "source": [
        "# L1.3 Pytorch environment"
      ]
    },
    {
      "cell_type": "markdown",
      "source": [
        "ON Computer"
      ],
      "metadata": {
        "id": "oNmXdSLuA4nB"
      },
      "id": "oNmXdSLuA4nB"
    },
    {
      "cell_type": "code",
      "execution_count": null,
      "id": "g2yW2dQV9Wak",
      "metadata": {
        "id": "g2yW2dQV9Wak",
        "outputId": "5a7a7612-fe76-4450-8761-4c539eade99b"
      },
      "outputs": [
        {
          "name": "stdout",
          "output_type": "stream",
          "text": [
            "PyTorch version: 2.8.0+cpu\n"
          ]
        }
      ],
      "source": [
        "import torch\n",
        "print(f\"PyTorch version: {torch.__version__}\")"
      ]
    },
    {
      "cell_type": "code",
      "execution_count": null,
      "id": "d3fb7993-0cda-4bde-87ee-2e50d9eda61c",
      "metadata": {
        "id": "d3fb7993-0cda-4bde-87ee-2e50d9eda61c",
        "outputId": "d7618fe8-2ad5-4740-baa6-8d232ca23e0c"
      },
      "outputs": [
        {
          "name": "stdout",
          "output_type": "stream",
          "text": [
            "numpy version 2.2.3\n",
            "matplotlib version 3.10.1\n"
          ]
        }
      ],
      "source": [
        "# Additional libraries\n",
        "# numpy for numerical operarions\n",
        "import numpy as np\n",
        "\n",
        "# matplotlib\n",
        "import matplotlib.pyplot as plt\n",
        "import matplotlib\n",
        "\n",
        "print(f\"numpy version {np.__version__}\")\n",
        "print(f\"matplotlib version {matplotlib.__version__}\")"
      ]
    },
    {
      "cell_type": "code",
      "execution_count": null,
      "id": "e605af26-9d49-44ee-9e04-c706293481f4",
      "metadata": {
        "id": "e605af26-9d49-44ee-9e04-c706293481f4",
        "outputId": "fc900e56-fc79-4331-a15d-66562d2dc5b7"
      },
      "outputs": [
        {
          "name": "stdout",
          "output_type": "stream",
          "text": [
            "CUDA available: False\n"
          ]
        }
      ],
      "source": [
        "# Check for GPU availability\n",
        "print(f\"CUDA available: {torch.cuda.is_available()}\")"
      ]
    },
    {
      "cell_type": "markdown",
      "source": [
        "ON Colab"
      ],
      "metadata": {
        "id": "DENrQJ8MA6JO"
      },
      "id": "DENrQJ8MA6JO"
    },
    {
      "cell_type": "code",
      "execution_count": 1,
      "id": "4f8ea981-ffa2-4a6a-86b6-bf51487b0fbb",
      "metadata": {
        "id": "4f8ea981-ffa2-4a6a-86b6-bf51487b0fbb",
        "outputId": "d637690f-03af-49ca-a322-56fd44b1fea3",
        "colab": {
          "base_uri": "https://localhost:8080/"
        }
      },
      "outputs": [
        {
          "output_type": "stream",
          "name": "stdout",
          "text": [
            "PyTorch version: 2.8.0+cu126\n"
          ]
        }
      ],
      "source": [
        "import torch\n",
        "print(f\"PyTorch version: {torch.__version__}\")"
      ]
    },
    {
      "cell_type": "code",
      "source": [
        "# Check for GPU availability\n",
        "print(f\"CUDA available: {torch.cuda.is_available()}\")"
      ],
      "metadata": {
        "id": "aKSCf5GNA84x",
        "outputId": "98e3afca-eaa8-43c7-b8fe-d3b6b6559485",
        "colab": {
          "base_uri": "https://localhost:8080/"
        }
      },
      "id": "aKSCf5GNA84x",
      "execution_count": 2,
      "outputs": [
        {
          "output_type": "stream",
          "name": "stdout",
          "text": [
            "CUDA available: True\n"
          ]
        }
      ]
    },
    {
      "cell_type": "code",
      "source": [],
      "metadata": {
        "id": "RYarTxgoBEgm"
      },
      "id": "RYarTxgoBEgm",
      "execution_count": null,
      "outputs": []
    }
  ],
  "metadata": {
    "colab": {
      "provenance": [],
      "gpuType": "T4"
    },
    "kernelspec": {
      "display_name": "Python 3",
      "name": "python3"
    },
    "language_info": {
      "codemirror_mode": {
        "name": "ipython",
        "version": 3
      },
      "file_extension": ".py",
      "mimetype": "text/x-python",
      "name": "python",
      "nbconvert_exporter": "python",
      "pygments_lexer": "ipython3",
      "version": "3.13.1"
    },
    "accelerator": "GPU"
  },
  "nbformat": 4,
  "nbformat_minor": 5
}